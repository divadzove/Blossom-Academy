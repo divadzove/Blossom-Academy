{
 "cells": [
  {
   "cell_type": "markdown",
   "id": "efaec805",
   "metadata": {},
   "source": [
    "### Functions"
   ]
  },
  {
   "cell_type": "markdown",
   "id": "95af4fa0",
   "metadata": {},
   "source": [
    "A function is a block of code which only runs when it is called.  \n",
    "You can pass data, known as parameters, into a function.  \n",
    "A function can return data as a result."
   ]
  },
  {
   "cell_type": "code",
   "execution_count": 1,
   "id": "29adc633",
   "metadata": {},
   "outputs": [
    {
     "data": {
      "text/plain": [
       "(3, 4, 'Dave', 5)"
      ]
     },
     "execution_count": 1,
     "metadata": {},
     "output_type": "execute_result"
    }
   ],
   "source": [
    "tuple((3,4,\"Dave\",5))"
   ]
  },
  {
   "cell_type": "markdown",
   "id": "4a0de52d",
   "metadata": {},
   "source": [
    "### Arguments  \n",
    "Information can be passed into functions as arguments.\n",
    "Arguments are specified after the function name, inside the parentheses. You can add as many arguments as you want, just separate them with a comma.\n",
    "\n",
    "The following example has a function with one argument (fname). When the function is called, we pass along a first name, which is used inside the function to print the full name"
   ]
  },
  {
   "cell_type": "markdown",
   "id": "10d48a7f",
   "metadata": {},
   "source": [
    "### Mathematics\n",
    "f(x) = 2x+1  \n",
    "f(2) = 2*2 + 1  \n",
    "f(2) = 4+1  \n",
    "f(2) = 5"
   ]
  },
  {
   "cell_type": "code",
   "execution_count": 2,
   "id": "2f4beebc",
   "metadata": {},
   "outputs": [],
   "source": [
    "def fxn(a):\n",
    "    result = 2*a + 1\n",
    "    return result"
   ]
  },
  {
   "cell_type": "code",
   "execution_count": 2,
   "id": "a6cf1779",
   "metadata": {
    "scrolled": true
   },
   "outputs": [
    {
     "data": {
      "text/plain": [
       "13"
      ]
     },
     "execution_count": 2,
     "metadata": {},
     "output_type": "execute_result"
    }
   ],
   "source": [
    "fxn(6)"
   ]
  },
  {
   "cell_type": "code",
   "execution_count": 3,
   "id": "95ab1c53",
   "metadata": {},
   "outputs": [
    {
     "data": {
      "text/plain": [
       "17"
      ]
     },
     "execution_count": 3,
     "metadata": {},
     "output_type": "execute_result"
    }
   ],
   "source": [
    "fxn(8)"
   ]
  },
  {
   "cell_type": "markdown",
   "id": "dd5146d2",
   "metadata": {},
   "source": [
    "Functions are block of codes that performs a specific task.\n",
    "\n",
    " Functions allow you to break down complex problems into smaller, more manageable parts, making it easier to develop and maintain large programs.\n",
    "    "
   ]
  },
  {
   "cell_type": "markdown",
   "id": "ee788b3a",
   "metadata": {},
   "source": [
    "#### Part of a Python Function"
   ]
  },
  {
   "cell_type": "code",
   "execution_count": 5,
   "id": "12408d3f",
   "metadata": {},
   "outputs": [],
   "source": [
    "def hello_a():\n",
    "    '''\n",
    "    This program displays Hello World\n",
    "    '''\n",
    "    word = \"Hello World\"\n",
    "    print(word)\n",
    "    "
   ]
  },
  {
   "cell_type": "code",
   "execution_count": 6,
   "id": "ed2b928e",
   "metadata": {},
   "outputs": [
    {
     "name": "stdout",
     "output_type": "stream",
     "text": [
      "Hello World\n"
     ]
    },
    {
     "data": {
      "text/plain": [
       "NoneType"
      ]
     },
     "execution_count": 6,
     "metadata": {},
     "output_type": "execute_result"
    }
   ],
   "source": [
    "type(hello_a())"
   ]
  },
  {
   "cell_type": "code",
   "execution_count": 7,
   "id": "9a8330ae",
   "metadata": {},
   "outputs": [
    {
     "name": "stdout",
     "output_type": "stream",
     "text": [
      "Hello World\n",
      "None Welcome to programming\n"
     ]
    }
   ],
   "source": [
    "a = hello_a()\n",
    "\n",
    "print(f\"{a} Welcome to programming\")"
   ]
  },
  {
   "cell_type": "code",
   "execution_count": 8,
   "id": "1672e624",
   "metadata": {},
   "outputs": [
    {
     "name": "stdout",
     "output_type": "stream",
     "text": [
      "Help on function hello_a in module __main__:\n",
      "\n",
      "hello_a()\n",
      "    This program displays Hello World\n",
      "\n"
     ]
    }
   ],
   "source": [
    "help(hello_a)"
   ]
  },
  {
   "cell_type": "code",
   "execution_count": 10,
   "id": "b0ba2cb0",
   "metadata": {},
   "outputs": [],
   "source": [
    "def hello():\n",
    "    '''\n",
    "    This program displays Hello World\n",
    "    '''\n",
    "    word = \"Hello World\"\n",
    "    print(word)\n",
    "    \n",
    "    \n"
   ]
  },
  {
   "cell_type": "code",
   "execution_count": 11,
   "id": "6e197da8",
   "metadata": {},
   "outputs": [
    {
     "name": "stdout",
     "output_type": "stream",
     "text": [
      "Hello World\n"
     ]
    }
   ],
   "source": [
    "hello()"
   ]
  },
  {
   "cell_type": "code",
   "execution_count": 12,
   "id": "fb00020e",
   "metadata": {
    "scrolled": true
   },
   "outputs": [
    {
     "ename": "NameError",
     "evalue": "name 'word' is not defined",
     "output_type": "error",
     "traceback": [
      "\u001b[1;31m---------------------------------------------------------------------------\u001b[0m",
      "\u001b[1;31mNameError\u001b[0m                                 Traceback (most recent call last)",
      "Cell \u001b[1;32mIn[12], line 1\u001b[0m\n\u001b[1;32m----> 1\u001b[0m \u001b[43mword\u001b[49m\n",
      "\u001b[1;31mNameError\u001b[0m: name 'word' is not defined"
     ]
    }
   ],
   "source": [
    "word"
   ]
  },
  {
   "cell_type": "code",
   "execution_count": 13,
   "id": "8db2ea55",
   "metadata": {},
   "outputs": [
    {
     "name": "stdout",
     "output_type": "stream",
     "text": [
      "Hello World\n"
     ]
    }
   ],
   "source": [
    "hello()"
   ]
  },
  {
   "cell_type": "code",
   "execution_count": 15,
   "id": "742c8fdc",
   "metadata": {},
   "outputs": [
    {
     "data": {
      "text/plain": [
       "9"
      ]
     },
     "execution_count": 15,
     "metadata": {},
     "output_type": "execute_result"
    }
   ],
   "source": [
    "numbers = [3,9,2,7,5]\n",
    "max(numbers)"
   ]
  },
  {
   "cell_type": "markdown",
   "id": "0b5108f6",
   "metadata": {},
   "source": [
    "The part of python function includes:\n",
    "\n",
    "- **Function Header** :The function header comprises of the **def** keyword followed by the name of  the function and a set  of parentheses that may contain arguments separated by commas. A function may or may not have any arguments. The function header always ends with a colon(:). \n",
    "\n",
    "\n",
    "- **Docstrings**: The documentation strings describe what the function does and how to use the function. The docstring are strings placed within triple quotes and can span across multiple  lines. To access the docstrings of a function use  the **__doc__** atribute of the function or the **help()** Python function.\n",
    "\n",
    "\n",
    "- **Function Body**: The function body is the code block inside the function which is indented from the header. It consist of the logic of the function.\n",
    "\n",
    "\n",
    "- **Return statement**: It consist of a **return** keyword followed by the value that the function should return. A function with no return statement simply returns None\n",
    "\n",
    "\n",
    "To call a function in python, write the name of the function followed by the enclosed parentheses with or without arguments."
   ]
  },
  {
   "cell_type": "code",
   "execution_count": 17,
   "id": "fb1c8ca1",
   "metadata": {},
   "outputs": [],
   "source": [
    "#This is an empty function\n",
    "def Blossom():\n",
    "    pass"
   ]
  },
  {
   "cell_type": "code",
   "execution_count": 18,
   "id": "9337f618",
   "metadata": {},
   "outputs": [],
   "source": [
    "#Returns nothing\n",
    "Blossom()"
   ]
  },
  {
   "cell_type": "code",
   "execution_count": 20,
   "id": "19f93381",
   "metadata": {},
   "outputs": [],
   "source": [
    "def welcome():\n",
    "    \"\"\"\n",
    "    This function returns Welcome to Python\n",
    "    \"\"\"\n",
    "    print(\"Welcome to Python\")"
   ]
  },
  {
   "cell_type": "code",
   "execution_count": 21,
   "id": "f571e6be",
   "metadata": {},
   "outputs": [
    {
     "name": "stdout",
     "output_type": "stream",
     "text": [
      "Help on function welcome in module __main__:\n",
      "\n",
      "welcome()\n",
      "    This function returns Welcome to Python\n",
      "\n"
     ]
    }
   ],
   "source": [
    "#Acessing the docstrings of a function\n",
    "help(welcome)"
   ]
  },
  {
   "cell_type": "code",
   "execution_count": 22,
   "id": "bfa7aeb3",
   "metadata": {},
   "outputs": [
    {
     "data": {
      "text/plain": [
       "'\\n    This function returns Welcome to Python\\n    '"
      ]
     },
     "execution_count": 22,
     "metadata": {},
     "output_type": "execute_result"
    }
   ],
   "source": [
    "#Acessing the docstrings of a function\n",
    "welcome.__doc__"
   ]
  },
  {
   "cell_type": "code",
   "execution_count": null,
   "id": "5e4b43b5",
   "metadata": {},
   "outputs": [],
   "source": [
    "#Calling the function\n",
    "welcome()"
   ]
  },
  {
   "cell_type": "code",
   "execution_count": 26,
   "id": "a08bd3ac",
   "metadata": {},
   "outputs": [],
   "source": [
    "#Functions with arguments\n",
    "\n",
    "def addition(a,b):\n",
    "    \"\"\"\n",
    "    This function adds two nums together\n",
    "    \n",
    "    INPUT:\n",
    "    a: int, value one\n",
    "    b: int, value two\n",
    "    \n",
    "    OUTPUT:\n",
    "    return : The sum of a and b\n",
    "    \n",
    "    \"\"\"\n",
    "    total = a+b\n",
    "    return total\n",
    "\n"
   ]
  },
  {
   "cell_type": "code",
   "execution_count": 27,
   "id": "dde580c3",
   "metadata": {},
   "outputs": [
    {
     "data": {
      "text/plain": [
       "24"
      ]
     },
     "execution_count": 27,
     "metadata": {},
     "output_type": "execute_result"
    }
   ],
   "source": [
    "total"
   ]
  },
  {
   "cell_type": "code",
   "execution_count": 25,
   "id": "7fe387df",
   "metadata": {},
   "outputs": [
    {
     "data": {
      "text/plain": [
       "24"
      ]
     },
     "execution_count": 25,
     "metadata": {},
     "output_type": "execute_result"
    }
   ],
   "source": [
    "addition(2,22)"
   ]
  },
  {
   "cell_type": "code",
   "execution_count": null,
   "id": "e37e5116",
   "metadata": {},
   "outputs": [],
   "source": []
  },
  {
   "cell_type": "markdown",
   "id": "f49e7953",
   "metadata": {},
   "source": [
    "**Variable Scope**: It refers to the portion of a program that a variable can  be referenced.\n",
    "\n",
    "\n",
    "**Local variable** : A varible defined in a function and can be only accessed within the function.\n",
    "\n",
    "**Global variable**: A variable defined outside a function and can be access in any part of the program.\n",
    "\n",
    "Local variable precede global variable whrn they both have the same variable name."
   ]
  },
  {
   "cell_type": "code",
   "execution_count": 28,
   "id": "4030dcab",
   "metadata": {},
   "outputs": [],
   "source": [
    "num = 5 #Global variable\n",
    "\n",
    "def display():\n",
    "    print(f\"The number is {num}\")"
   ]
  },
  {
   "cell_type": "code",
   "execution_count": 29,
   "id": "608ada23",
   "metadata": {},
   "outputs": [
    {
     "name": "stdout",
     "output_type": "stream",
     "text": [
      "The number is 5\n"
     ]
    }
   ],
   "source": [
    "display()"
   ]
  },
  {
   "cell_type": "code",
   "execution_count": 31,
   "id": "f7632c00",
   "metadata": {},
   "outputs": [],
   "source": [
    "num = 5 #Global variable\n",
    "\n",
    "def display():\n",
    "    num = 10  #local variable\n",
    "    print(f\"The number is {num}\")\n"
   ]
  },
  {
   "cell_type": "code",
   "execution_count": 32,
   "id": "1a36440e",
   "metadata": {},
   "outputs": [
    {
     "name": "stdout",
     "output_type": "stream",
     "text": [
      "The number is 10\n"
     ]
    }
   ],
   "source": [
    "display()"
   ]
  },
  {
   "cell_type": "code",
   "execution_count": 33,
   "id": "73f5aed0",
   "metadata": {},
   "outputs": [
    {
     "data": {
      "text/plain": [
       "5"
      ]
     },
     "execution_count": 33,
     "metadata": {},
     "output_type": "execute_result"
    }
   ],
   "source": [
    "num"
   ]
  },
  {
   "cell_type": "code",
   "execution_count": 34,
   "id": "8bcd897f",
   "metadata": {},
   "outputs": [],
   "source": [
    "def display():\n",
    "    a = 20  #local variable\n",
    "    print(f\"The number is {a}\")"
   ]
  },
  {
   "cell_type": "code",
   "execution_count": 35,
   "id": "44753ac0",
   "metadata": {},
   "outputs": [
    {
     "name": "stdout",
     "output_type": "stream",
     "text": [
      "The number is 20\n"
     ]
    }
   ],
   "source": [
    "display()"
   ]
  },
  {
   "cell_type": "code",
   "execution_count": 39,
   "id": "915c35a9",
   "metadata": {},
   "outputs": [],
   "source": [
    "a= 15 #Global variable\n",
    "def display():\n",
    "    a = 20  #local variable\n",
    "    print(f\"The number is {a}\")\n",
    "    print(a)"
   ]
  },
  {
   "cell_type": "code",
   "execution_count": 40,
   "id": "150cb4d6",
   "metadata": {},
   "outputs": [
    {
     "name": "stdout",
     "output_type": "stream",
     "text": [
      "The number is 20\n",
      "20\n"
     ]
    }
   ],
   "source": [
    "display()"
   ]
  },
  {
   "cell_type": "code",
   "execution_count": 37,
   "id": "4226e1c3",
   "metadata": {},
   "outputs": [
    {
     "data": {
      "text/plain": [
       "15"
      ]
     },
     "execution_count": 37,
     "metadata": {},
     "output_type": "execute_result"
    }
   ],
   "source": [
    "a"
   ]
  },
  {
   "cell_type": "code",
   "execution_count": 41,
   "id": "139d58cc",
   "metadata": {
    "scrolled": true
   },
   "outputs": [
    {
     "name": "stdout",
     "output_type": "stream",
     "text": [
      "The number is 20\n",
      "20\n"
     ]
    }
   ],
   "source": [
    "display()"
   ]
  },
  {
   "cell_type": "markdown",
   "id": "fb6f2ab4",
   "metadata": {},
   "source": [
    "**Positional arguments**: \n",
    "\n",
    "Arguments where values get assigned to the arguments by their position when the function is called.  \n",
    "It is an argument whose position matters in a function call."
   ]
  },
  {
   "cell_type": "code",
   "execution_count": null,
   "id": "7500d584",
   "metadata": {},
   "outputs": [],
   "source": [
    "def bmi(height, weight):\n",
    "    return weight / height**2"
   ]
  },
  {
   "cell_type": "code",
   "execution_count": null,
   "id": "2bbd3a04",
   "metadata": {},
   "outputs": [],
   "source": [
    "bmi(1.76,55)"
   ]
  },
  {
   "cell_type": "markdown",
   "id": "fa1e0dae",
   "metadata": {},
   "source": [
    "**Default Arguments**:  Default values are assigned to argument of the function using the assignment operator.\n",
    "\n",
    "**Keyword Arguments**: These are arguments where values get assigned to the arguments by their keyword(name) when the fuction id called. It is preceded by the variable name and an assignment operator.\n",
    "\n",
    "Positional argument should follow keyword argument."
   ]
  },
  {
   "cell_type": "code",
   "execution_count": 42,
   "id": "0e09edd2",
   "metadata": {},
   "outputs": [],
   "source": [
    "def dollar_cedis(dollar, dollar_rate=15):\n",
    "    cedis = dollar * dollar_rate\n",
    "    print(f\"{dollar} dollar to cedis is {cedis} gh\")\n",
    "    "
   ]
  },
  {
   "cell_type": "code",
   "execution_count": 43,
   "id": "035f6e85",
   "metadata": {},
   "outputs": [
    {
     "name": "stdout",
     "output_type": "stream",
     "text": [
      "10 dollar to cedis is 150 gh\n"
     ]
    }
   ],
   "source": [
    "dollar_cedis(10)"
   ]
  },
  {
   "cell_type": "code",
   "execution_count": 44,
   "id": "b5a535a7",
   "metadata": {},
   "outputs": [
    {
     "name": "stdout",
     "output_type": "stream",
     "text": [
      "10 dollar to cedis is 200 gh\n"
     ]
    }
   ],
   "source": [
    "dollar_cedis(10,20)"
   ]
  },
  {
   "cell_type": "markdown",
   "id": "72a57e98",
   "metadata": {},
   "source": [
    "***args** is used to denote that the function can accept a variable number of arguments which are passed as a tuple to the function."
   ]
  },
  {
   "cell_type": "code",
   "execution_count": 45,
   "id": "9625a81b",
   "metadata": {},
   "outputs": [],
   "source": [
    "def summation(*args):\n",
    "#     print(type(args))\n",
    "    total = 0\n",
    "    for i in args:\n",
    "        total = total + i\n",
    "    print(total)\n",
    "        "
   ]
  },
  {
   "cell_type": "code",
   "execution_count": 46,
   "id": "b39662f8",
   "metadata": {},
   "outputs": [
    {
     "name": "stdout",
     "output_type": "stream",
     "text": [
      "54\n"
     ]
    }
   ],
   "source": [
    "summation(2,3,4,5,4,5,6,7,8,4,3,3)"
   ]
  },
  {
   "cell_type": "markdown",
   "id": "a1139023",
   "metadata": {},
   "source": [
    "***kwargs** is used to pass a variable number of keyword arguments to a python function. It is denoted by using double asterisk before the parameter name"
   ]
  },
  {
   "cell_type": "code",
   "execution_count": 47,
   "id": "211ef564",
   "metadata": {},
   "outputs": [],
   "source": [
    "def stock(**items):\n",
    "    print(items)"
   ]
  },
  {
   "cell_type": "code",
   "execution_count": 49,
   "id": "c2530851",
   "metadata": {},
   "outputs": [
    {
     "name": "stdout",
     "output_type": "stream",
     "text": [
      "{'pencil': 2, 'eraser': 5, 'ruler': 2}\n"
     ]
    }
   ],
   "source": [
    "stock(pencil=2,eraser=5,ruler=2)"
   ]
  },
  {
   "cell_type": "code",
   "execution_count": 50,
   "id": "746201a4",
   "metadata": {},
   "outputs": [],
   "source": [
    "def total_stocks(**items):\n",
    "    total = 0\n",
    "    for num in items.values():\n",
    "        total+=num\n",
    "    return total"
   ]
  },
  {
   "cell_type": "code",
   "execution_count": 51,
   "id": "1cb1872f",
   "metadata": {},
   "outputs": [
    {
     "data": {
      "text/plain": [
       "14"
      ]
     },
     "execution_count": 51,
     "metadata": {},
     "output_type": "execute_result"
    }
   ],
   "source": [
    "total_stocks(pencil=2,eraser=5,ruler=2, pen =5)"
   ]
  },
  {
   "cell_type": "code",
   "execution_count": 52,
   "id": "2af3335f",
   "metadata": {},
   "outputs": [],
   "source": [
    "def mult_10(x):\n",
    "    if x%10 == 0:\n",
    "        return True\n",
    "    else:\n",
    "        return False"
   ]
  },
  {
   "cell_type": "code",
   "execution_count": 53,
   "id": "2bce169e",
   "metadata": {},
   "outputs": [
    {
     "data": {
      "text/plain": [
       "True"
      ]
     },
     "execution_count": 53,
     "metadata": {},
     "output_type": "execute_result"
    }
   ],
   "source": [
    "mult_10(100)"
   ]
  },
  {
   "cell_type": "markdown",
   "id": "9c318372",
   "metadata": {},
   "source": [
    "**Lambda Expression**\n",
    "\n",
    "A lambda expression is an anonymous function that can take any number of arguments but can only have one expression.\n",
    "\n",
    "The **lambda** keyword is used to define a lambda expression."
   ]
  },
  {
   "cell_type": "markdown",
   "id": "d35ff0c3",
   "metadata": {},
   "source": [
    "Syntax for a lambda expression"
   ]
  },
  {
   "cell_type": "raw",
   "id": "70282b44",
   "metadata": {},
   "source": [
    "lambda arguments: expression"
   ]
  },
  {
   "cell_type": "code",
   "execution_count": 54,
   "id": "a436e9b9",
   "metadata": {},
   "outputs": [],
   "source": [
    "#Normal function definition:\n",
    "\n",
    "def add_two(x):\n",
    "    return x+2"
   ]
  },
  {
   "cell_type": "code",
   "execution_count": 55,
   "id": "884e329a",
   "metadata": {},
   "outputs": [
    {
     "data": {
      "text/plain": [
       "22"
      ]
     },
     "execution_count": 55,
     "metadata": {},
     "output_type": "execute_result"
    }
   ],
   "source": [
    "add_two(20)"
   ]
  },
  {
   "cell_type": "code",
   "execution_count": null,
   "id": "fea8bc10",
   "metadata": {},
   "outputs": [],
   "source": [
    "lambda x : x+2"
   ]
  },
  {
   "cell_type": "code",
   "execution_count": 56,
   "id": "ca0c5b36",
   "metadata": {},
   "outputs": [
    {
     "data": {
      "text/plain": [
       "<function __main__.<lambda>(x)>"
      ]
     },
     "execution_count": 56,
     "metadata": {},
     "output_type": "execute_result"
    }
   ],
   "source": [
    "# Lambda expression of add_two\n",
    "lambda x:x+2"
   ]
  },
  {
   "cell_type": "code",
   "execution_count": 57,
   "id": "a6e5248c",
   "metadata": {},
   "outputs": [],
   "source": [
    "add_2 = lambda x:x+2"
   ]
  },
  {
   "cell_type": "code",
   "execution_count": 58,
   "id": "2b4384c1",
   "metadata": {},
   "outputs": [
    {
     "data": {
      "text/plain": [
       "12"
      ]
     },
     "execution_count": 58,
     "metadata": {},
     "output_type": "execute_result"
    }
   ],
   "source": [
    "add_2(10)"
   ]
  },
  {
   "cell_type": "code",
   "execution_count": 59,
   "id": "25b72cd5",
   "metadata": {},
   "outputs": [],
   "source": [
    "def multiply(x,y):\n",
    "    return x*y"
   ]
  },
  {
   "cell_type": "code",
   "execution_count": 60,
   "id": "10e9d39d",
   "metadata": {},
   "outputs": [
    {
     "data": {
      "text/plain": [
       "6"
      ]
     },
     "execution_count": 60,
     "metadata": {},
     "output_type": "execute_result"
    }
   ],
   "source": [
    "multiply(2,3)"
   ]
  },
  {
   "cell_type": "code",
   "execution_count": 62,
   "id": "a45e3aa6",
   "metadata": {},
   "outputs": [],
   "source": [
    "multiplication = lambda x,y : x * y "
   ]
  },
  {
   "cell_type": "code",
   "execution_count": 63,
   "id": "9c04763c",
   "metadata": {},
   "outputs": [
    {
     "data": {
      "text/plain": [
       "20"
      ]
     },
     "execution_count": 63,
     "metadata": {},
     "output_type": "execute_result"
    }
   ],
   "source": [
    "multiplication(4,5)"
   ]
  },
  {
   "cell_type": "code",
   "execution_count": 64,
   "id": "ac6f55bc",
   "metadata": {},
   "outputs": [],
   "source": [
    "whole_numbers = lambda x: x-x if x<0 else x"
   ]
  },
  {
   "cell_type": "code",
   "execution_count": 65,
   "id": "9f994d2a",
   "metadata": {},
   "outputs": [
    {
     "data": {
      "text/plain": [
       "5"
      ]
     },
     "execution_count": 65,
     "metadata": {},
     "output_type": "execute_result"
    }
   ],
   "source": [
    "whole_numbers(5)"
   ]
  },
  {
   "cell_type": "code",
   "execution_count": 66,
   "id": "a942a86a",
   "metadata": {},
   "outputs": [
    {
     "data": {
      "text/plain": [
       "0"
      ]
     },
     "execution_count": 66,
     "metadata": {},
     "output_type": "execute_result"
    }
   ],
   "source": [
    "whole_numbers(-5)"
   ]
  },
  {
   "cell_type": "code",
   "execution_count": null,
   "id": "d8b42636",
   "metadata": {},
   "outputs": [],
   "source": []
  },
  {
   "cell_type": "markdown",
   "id": "8aff4817",
   "metadata": {},
   "source": [
    "### Higher Order Built-In Functions"
   ]
  },
  {
   "cell_type": "markdown",
   "id": "19f8032e",
   "metadata": {},
   "source": [
    "**map**\n",
    "\n",
    "This function applies a given function to each element of an iterable(list,tuple) and returns an iterator with the results"
   ]
  },
  {
   "cell_type": "code",
   "execution_count": 67,
   "id": "bc0b6be5",
   "metadata": {},
   "outputs": [],
   "source": [
    "def square(x):\n",
    "    return x ** 2"
   ]
  },
  {
   "cell_type": "code",
   "execution_count": 68,
   "id": "fc8d51de",
   "metadata": {},
   "outputs": [
    {
     "data": {
      "text/plain": [
       "[1, 2, 3, 4, 5, 6, 7, 8, 9, 10]"
      ]
     },
     "execution_count": 68,
     "metadata": {},
     "output_type": "execute_result"
    }
   ],
   "source": [
    "numbers = list(range(1,11))\n",
    "numbers"
   ]
  },
  {
   "cell_type": "code",
   "execution_count": 69,
   "id": "9db9d40d",
   "metadata": {},
   "outputs": [
    {
     "data": {
      "text/plain": [
       "<map at 0x1c31159ed40>"
      ]
     },
     "execution_count": 69,
     "metadata": {},
     "output_type": "execute_result"
    }
   ],
   "source": [
    "map(square,numbers)"
   ]
  },
  {
   "cell_type": "code",
   "execution_count": 70,
   "id": "d5be1b6e",
   "metadata": {},
   "outputs": [
    {
     "name": "stdout",
     "output_type": "stream",
     "text": [
      "[1, 4, 9, 16, 25, 36, 49, 64, 81, 100]\n"
     ]
    }
   ],
   "source": [
    "print(list(map(square,numbers)))"
   ]
  },
  {
   "cell_type": "code",
   "execution_count": 71,
   "id": "bc8443a5",
   "metadata": {},
   "outputs": [
    {
     "data": {
      "text/plain": [
       "[1.0,\n",
       " 1.4142135623730951,\n",
       " 1.7320508075688772,\n",
       " 2.0,\n",
       " 2.23606797749979,\n",
       " 2.449489742783178,\n",
       " 2.6457513110645907,\n",
       " 2.8284271247461903,\n",
       " 3.0,\n",
       " 3.1622776601683795]"
      ]
     },
     "execution_count": 71,
     "metadata": {},
     "output_type": "execute_result"
    }
   ],
   "source": [
    "#map with lambda expression\n",
    "sqrt_numbers = list(map(lambda x:x**0.5, numbers))\n",
    "sqrt_numbers"
   ]
  },
  {
   "cell_type": "code",
   "execution_count": 73,
   "id": "da04d478",
   "metadata": {},
   "outputs": [],
   "source": [
    "list_numbers = [[5,2,4],[6,3,1],[4,6,10]]"
   ]
  },
  {
   "cell_type": "code",
   "execution_count": 74,
   "id": "b8eb1459",
   "metadata": {},
   "outputs": [],
   "source": [
    "max_numbers = list(map(max, list_numbers))"
   ]
  },
  {
   "cell_type": "code",
   "execution_count": 75,
   "id": "c3c97ddd",
   "metadata": {},
   "outputs": [
    {
     "data": {
      "text/plain": [
       "[5, 6, 10]"
      ]
     },
     "execution_count": 75,
     "metadata": {},
     "output_type": "execute_result"
    }
   ],
   "source": [
    "max_numbers"
   ]
  },
  {
   "cell_type": "code",
   "execution_count": null,
   "id": "01121ac0",
   "metadata": {},
   "outputs": [],
   "source": []
  },
  {
   "cell_type": "markdown",
   "id": "115b1174",
   "metadata": {},
   "source": [
    "**filter()**:\n",
    "\n",
    "It filters the given sequence with the help of a function that tests each element in the sequence to be true or not."
   ]
  },
  {
   "cell_type": "code",
   "execution_count": 76,
   "id": "48bfce09",
   "metadata": {},
   "outputs": [],
   "source": [
    "def is_negative(x):\n",
    "    return x<0\n",
    "\n",
    "nums = [-3,3,4,-5,2,-4,-9,5]\n",
    "\n",
    "negative_numbers = filter(is_negative, nums)"
   ]
  },
  {
   "cell_type": "code",
   "execution_count": 77,
   "id": "00aae6ee",
   "metadata": {},
   "outputs": [
    {
     "data": {
      "text/plain": [
       "<filter at 0x1c30fc3b040>"
      ]
     },
     "execution_count": 77,
     "metadata": {},
     "output_type": "execute_result"
    }
   ],
   "source": [
    "negative_numbers"
   ]
  },
  {
   "cell_type": "code",
   "execution_count": 78,
   "id": "654a70c5",
   "metadata": {},
   "outputs": [
    {
     "data": {
      "text/plain": [
       "[-3, -5, -4, -9]"
      ]
     },
     "execution_count": 78,
     "metadata": {},
     "output_type": "execute_result"
    }
   ],
   "source": [
    "list(negative_numbers)"
   ]
  },
  {
   "cell_type": "code",
   "execution_count": 79,
   "id": "9326b276",
   "metadata": {},
   "outputs": [],
   "source": [
    "def upper(word):\n",
    "    return word.isupper()\n"
   ]
  },
  {
   "cell_type": "code",
   "execution_count": 81,
   "id": "9e220ca7",
   "metadata": {},
   "outputs": [],
   "source": [
    "names =(\"kofi\",\"PRECIOUS\",\"DANIEL\",'kwesi',\"SELASI\",'FRED','kwaku')"
   ]
  },
  {
   "cell_type": "code",
   "execution_count": 82,
   "id": "4e0aec01",
   "metadata": {},
   "outputs": [],
   "source": [
    "uppercase = tuple(filter(upper, names))"
   ]
  },
  {
   "cell_type": "code",
   "execution_count": 83,
   "id": "ce2e7ed7",
   "metadata": {},
   "outputs": [
    {
     "data": {
      "text/plain": [
       "('PRECIOUS', 'DANIEL', 'SELASI', 'FRED')"
      ]
     },
     "execution_count": 83,
     "metadata": {},
     "output_type": "execute_result"
    }
   ],
   "source": [
    "uppercase"
   ]
  },
  {
   "cell_type": "code",
   "execution_count": null,
   "id": "11a59c10",
   "metadata": {},
   "outputs": [],
   "source": []
  },
  {
   "cell_type": "markdown",
   "id": "ebb72954",
   "metadata": {},
   "source": [
    "**zip()**:\n",
    "\n",
    "This method takes iterables and returns a single iterator object, having mapped values from all the containers."
   ]
  },
  {
   "cell_type": "code",
   "execution_count": 85,
   "id": "050678bb",
   "metadata": {},
   "outputs": [],
   "source": [
    "numbers = [1,2,3,4,5]\n",
    "words = [\"one\",\"two\", \"three\", \"four\", \"five\"]"
   ]
  },
  {
   "cell_type": "code",
   "execution_count": 86,
   "id": "f200b440",
   "metadata": {},
   "outputs": [
    {
     "data": {
      "text/plain": [
       "<zip at 0x1c311e617c0>"
      ]
     },
     "execution_count": 86,
     "metadata": {},
     "output_type": "execute_result"
    }
   ],
   "source": [
    "zip(numbers, words)"
   ]
  },
  {
   "cell_type": "code",
   "execution_count": 87,
   "id": "0a1d77f7",
   "metadata": {},
   "outputs": [
    {
     "data": {
      "text/plain": [
       "[(1, 'one'), (2, 'two'), (3, 'three'), (4, 'four'), (5, 'five')]"
      ]
     },
     "execution_count": 87,
     "metadata": {},
     "output_type": "execute_result"
    }
   ],
   "source": [
    "list(zip(numbers, words))"
   ]
  },
  {
   "cell_type": "code",
   "execution_count": 88,
   "id": "bd24275f",
   "metadata": {},
   "outputs": [
    {
     "data": {
      "text/plain": [
       "[(1, 'one'), (2, 'two'), (3, 'three'), (4, 'four'), (5, 'five')]"
      ]
     },
     "execution_count": 88,
     "metadata": {},
     "output_type": "execute_result"
    }
   ],
   "source": [
    "list(zip([1,2,3,4,5],[\"one\",\"two\", \"three\", \"four\", \"five\"]))"
   ]
  },
  {
   "cell_type": "code",
   "execution_count": 89,
   "id": "e78a4aa1",
   "metadata": {},
   "outputs": [
    {
     "name": "stdout",
     "output_type": "stream",
     "text": [
      "1:one\n",
      "2:two\n",
      "3:three\n",
      "4:four\n",
      "5:five\n"
     ]
    }
   ],
   "source": [
    "for num, word in zip(numbers, words):\n",
    "    print(f\"{num}:{word}\")"
   ]
  },
  {
   "cell_type": "markdown",
   "id": "a2c76150",
   "metadata": {},
   "source": [
    "**Unzipping**: It is the process of extracting individual elements of an iterable object and transforming them into separate lists.\n",
    "\n",
    "The operators used in unzipping are  the zip and the * operators."
   ]
  },
  {
   "cell_type": "code",
   "execution_count": 90,
   "id": "3fecab52",
   "metadata": {},
   "outputs": [],
   "source": [
    "zipped = list(zip(numbers, words))"
   ]
  },
  {
   "cell_type": "code",
   "execution_count": 91,
   "id": "923bda4e",
   "metadata": {},
   "outputs": [
    {
     "data": {
      "text/plain": [
       "[(1, 'one'), (2, 'two'), (3, 'three'), (4, 'four'), (5, 'five')]"
      ]
     },
     "execution_count": 91,
     "metadata": {},
     "output_type": "execute_result"
    }
   ],
   "source": [
    "zipped"
   ]
  },
  {
   "cell_type": "code",
   "execution_count": 92,
   "id": "ef7c5096",
   "metadata": {},
   "outputs": [],
   "source": [
    "unzipped = zip(*zipped)"
   ]
  },
  {
   "cell_type": "code",
   "execution_count": 93,
   "id": "3dc8146e",
   "metadata": {},
   "outputs": [
    {
     "data": {
      "text/plain": [
       "<zip at 0x1c311e62880>"
      ]
     },
     "execution_count": 93,
     "metadata": {},
     "output_type": "execute_result"
    }
   ],
   "source": [
    "unzipped"
   ]
  },
  {
   "cell_type": "code",
   "execution_count": 94,
   "id": "5118879b",
   "metadata": {},
   "outputs": [
    {
     "data": {
      "text/plain": [
       "[(1, 2, 3, 4, 5), ('one', 'two', 'three', 'four', 'five')]"
      ]
     },
     "execution_count": 94,
     "metadata": {},
     "output_type": "execute_result"
    }
   ],
   "source": [
    "list(unzipped)"
   ]
  },
  {
   "cell_type": "code",
   "execution_count": 95,
   "id": "3de1a7dd",
   "metadata": {},
   "outputs": [],
   "source": [
    "numbers, words = zip(*zipped)"
   ]
  },
  {
   "cell_type": "code",
   "execution_count": 96,
   "id": "a14d1d7e",
   "metadata": {},
   "outputs": [
    {
     "data": {
      "text/plain": [
       "(1, 2, 3, 4, 5)"
      ]
     },
     "execution_count": 96,
     "metadata": {},
     "output_type": "execute_result"
    }
   ],
   "source": [
    "numbers"
   ]
  },
  {
   "cell_type": "code",
   "execution_count": 97,
   "id": "eb924762",
   "metadata": {},
   "outputs": [
    {
     "data": {
      "text/plain": [
       "('one', 'two', 'three', 'four', 'five')"
      ]
     },
     "execution_count": 97,
     "metadata": {},
     "output_type": "execute_result"
    }
   ],
   "source": [
    "words"
   ]
  },
  {
   "cell_type": "code",
   "execution_count": null,
   "id": "1f38eade",
   "metadata": {},
   "outputs": [],
   "source": []
  },
  {
   "cell_type": "markdown",
   "id": "ead0ab5f",
   "metadata": {},
   "source": [
    "**enumerate()**:\n",
    "\n",
    "This method returns an iterator of tuples containing indicies and values of a list"
   ]
  },
  {
   "cell_type": "code",
   "execution_count": 104,
   "id": "bf711ae0",
   "metadata": {},
   "outputs": [],
   "source": [
    "words =['one', 'two', 'three', 'four', 'five']"
   ]
  },
  {
   "cell_type": "code",
   "execution_count": 105,
   "id": "f8710801",
   "metadata": {},
   "outputs": [
    {
     "data": {
      "text/plain": [
       "<enumerate at 0x1c311d5d680>"
      ]
     },
     "execution_count": 105,
     "metadata": {},
     "output_type": "execute_result"
    }
   ],
   "source": [
    "enumerate(words)"
   ]
  },
  {
   "cell_type": "code",
   "execution_count": 106,
   "id": "8d2a12be",
   "metadata": {},
   "outputs": [
    {
     "data": {
      "text/plain": [
       "[(0, 'one'), (1, 'two'), (2, 'three'), (3, 'four'), (4, 'five')]"
      ]
     },
     "execution_count": 106,
     "metadata": {},
     "output_type": "execute_result"
    }
   ],
   "source": [
    "list(enumerate(words))"
   ]
  },
  {
   "cell_type": "code",
   "execution_count": 107,
   "id": "35f800eb",
   "metadata": {},
   "outputs": [
    {
     "name": "stdout",
     "output_type": "stream",
     "text": [
      "0:one\n",
      "1:two\n",
      "2:three\n",
      "3:four\n",
      "4:five\n"
     ]
    }
   ],
   "source": [
    "for i, word in enumerate(words):\n",
    "    print(f\"{i}:{word}\")"
   ]
  },
  {
   "cell_type": "code",
   "execution_count": 108,
   "id": "0747b820",
   "metadata": {},
   "outputs": [
    {
     "name": "stdout",
     "output_type": "stream",
     "text": [
      "1 - > one\n",
      "2 - > two\n",
      "3 - > three\n",
      "4 - > four\n",
      "5 - > five\n"
     ]
    }
   ],
   "source": [
    "for i, word in enumerate(words):\n",
    "    print(f\"{i+1} - > {word}\")"
   ]
  },
  {
   "cell_type": "code",
   "execution_count": null,
   "id": "9a3b63d5",
   "metadata": {},
   "outputs": [],
   "source": []
  }
 ],
 "metadata": {
  "kernelspec": {
   "display_name": "Python 3 (ipykernel)",
   "language": "python",
   "name": "python3"
  },
  "language_info": {
   "codemirror_mode": {
    "name": "ipython",
    "version": 3
   },
   "file_extension": ".py",
   "mimetype": "text/x-python",
   "name": "python",
   "nbconvert_exporter": "python",
   "pygments_lexer": "ipython3",
   "version": "3.11.4"
  }
 },
 "nbformat": 4,
 "nbformat_minor": 5
}

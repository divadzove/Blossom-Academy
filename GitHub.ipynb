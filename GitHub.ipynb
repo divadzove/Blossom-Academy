{
 "cells": [
  {
   "cell_type": "markdown",
   "id": "b9100547",
   "metadata": {},
   "source": [
    "# Git and Github"
   ]
  },
  {
   "cell_type": "markdown",
   "id": "087c14e6",
   "metadata": {},
   "source": [
    "### Git"
   ]
  },
  {
   "cell_type": "markdown",
   "id": "14a484f4",
   "metadata": {},
   "source": [
    "- Git is a free and open source distributed verson control system.\n",
    "- It was created by Linus Torvald to aid in Linux kernel development released in the year 2005\n",
    "- Git is the software tha runs on your computer and manage your files for you.\n",
    "- It enables you to collaborate with others to work on the same project.\n"
   ]
  },
  {
   "cell_type": "markdown",
   "id": "6515b63a",
   "metadata": {},
   "source": [
    "### Github"
   ]
  },
  {
   "cell_type": "markdown",
   "id": "f61a426c",
   "metadata": {},
   "source": [
    "* It is the web-based hosting service for git reposiories.\n",
    "* It provided remote locations for synchronising your local Git repository on to the web.\n",
    "*  It was launched un 2008 and maintained by Microsoft."
   ]
  },
  {
   "cell_type": "markdown",
   "id": "61ecbffc",
   "metadata": {},
   "source": [
    "### Create a Github account"
   ]
  },
  {
   "cell_type": "markdown",
   "id": "fd4a1e97",
   "metadata": {},
   "source": [
    "Create your Github account [here](https://github.com/)"
   ]
  },
  {
   "cell_type": "markdown",
   "id": "06f3a7d6",
   "metadata": {},
   "source": [
    "### Basic Linux command for git"
   ]
  },
  {
   "cell_type": "markdown",
   "id": "43ba2a0b",
   "metadata": {},
   "source": [
    "`pwd` : DIsplays the path of your current working directory.\n",
    "\n",
    "eg: pwd\n",
    "\n",
    "`cd <directory>`: Navigates to a particular directory\n",
    "\n",
    "eg:  cd selas\n",
    "\n",
    "`cd ..` : navigates to the parrent directory\n",
    "\n",
    "eg: cd ..\n",
    "\n",
    "`ls` : List the content of a directory\n",
    "\n",
    "eg: ls\n",
    "\n",
    "`mkdir <directory>` : Create a new directory\n",
    "\n",
    "eg: mkdir MyProject\n",
    "\n",
    "`rmdir -r <directory>` : Delete a directory.\n",
    "\n",
    "eg: rmdir -r MyProject\n",
    "\n",
    "`rm <file>`: Delete a file\n",
    "\n",
    "eg: rm info.txt"
   ]
  },
  {
   "cell_type": "markdown",
   "id": "6b6754e0",
   "metadata": {},
   "source": [
    "### Installation of Git"
   ]
  },
  {
   "cell_type": "markdown",
   "id": "b1d8bac2",
   "metadata": {},
   "source": [
    "Download and install the git software from [here](https://git-scm.com/downloads)"
   ]
  },
  {
   "cell_type": "markdown",
   "id": "96fd0d76",
   "metadata": {},
   "source": [
    "### Check the version of Git"
   ]
  },
  {
   "cell_type": "markdown",
   "id": "e1c904f9",
   "metadata": {},
   "source": [
    "* Type this in the Git Bash\n",
    "\n",
    "`git --version`"
   ]
  },
  {
   "cell_type": "markdown",
   "id": "f16de31e",
   "metadata": {},
   "source": [
    "### Configuring Git"
   ]
  },
  {
   "cell_type": "markdown",
   "id": "302e3634",
   "metadata": {},
   "source": [
    "Configure git with your username and email address."
   ]
  },
  {
   "cell_type": "markdown",
   "id": "35c4de96",
   "metadata": {},
   "source": [
    "`git config --global user.name \"USERNAME\"`\n",
    "\n",
    "`git config --global user.email \"EMAIL\"`"
   ]
  },
  {
   "cell_type": "markdown",
   "id": "812ce8c2",
   "metadata": {},
   "source": [
    "### Creating a Git Repository"
   ]
  },
  {
   "cell_type": "markdown",
   "id": "1dfd9782",
   "metadata": {},
   "source": [
    "* Sign in to your Github account\n",
    "* At the top right hand corner use the **+** drop-down menu, select New repository.\n",
    "* Give the repository a well-defined name\n",
    "* Write a brief description of your repository\n",
    "* Select the repository visibility either **Public** or **Private**\n",
    "* Tick the box initalize the repository with a README\n",
    "* Click Create repository"
   ]
  },
  {
   "cell_type": "markdown",
   "id": "a25f472a",
   "metadata": {},
   "source": [
    "### Updating a Git hub Repository"
   ]
  },
  {
   "cell_type": "markdown",
   "id": "25823717",
   "metadata": {},
   "source": [
    "- Navigate to the project directory\n",
    "\n",
    "e.g `cd /selas`\n",
    "- Initialize the local directory\n",
    "\n",
    "eg `git init`\n",
    "- Add the selected files\n",
    "\n",
    "eg `git add text.txt`  - for selected file\n",
    "    \n",
    "  `git add *`  - for all files\n",
    "  \n",
    "- Commit the staged files\n",
    "\n",
    "`git commit -m \"added a new file named text\"`\n",
    "\n",
    "\n",
    "- Add remote repository url from gitHub\n",
    "\n",
    "`git remote add origin https://github.com/yourusername/your-repo-name.git`\n",
    "\n",
    "- Push local repository to Github\n",
    "\n",
    "`git push origin master`\n"
   ]
  },
  {
   "cell_type": "markdown",
   "id": "95b6377f",
   "metadata": {},
   "source": [
    "### Check the Status of files"
   ]
  },
  {
   "cell_type": "markdown",
   "id": "dd5066c7",
   "metadata": {},
   "source": [
    "- Use the command:\n",
    "\n",
    "`git status`"
   ]
  },
  {
   "cell_type": "markdown",
   "id": "eaee447e",
   "metadata": {},
   "source": [
    "### Cloning"
   ]
  },
  {
   "cell_type": "markdown",
   "id": "62ec07c1",
   "metadata": {},
   "source": [
    "The act of copying  a repository from a remote server to your local machine.\n"
   ]
  },
  {
   "cell_type": "markdown",
   "id": "2540c256",
   "metadata": {},
   "source": [
    "### How to clone a repository"
   ]
  },
  {
   "cell_type": "markdown",
   "id": "18e112c3",
   "metadata": {},
   "source": [
    "* Launch the Git Bash\n",
    "* Navigate to the folder where you want the repository to be stored\n",
    "* Get the link of the remote repository\n",
    "* Type this command\n",
    "\n",
    "`git clone <url>`"
   ]
  },
  {
   "cell_type": "markdown",
   "id": "532ad012",
   "metadata": {},
   "source": [
    "### Pulling"
   ]
  },
  {
   "cell_type": "markdown",
   "id": "fbae754d",
   "metadata": {},
   "source": [
    "This is the process of downloading commits that do not exist on your local machine from a remeote repository"
   ]
  },
  {
   "cell_type": "markdown",
   "id": "e3e62251",
   "metadata": {},
   "source": [
    "`git pull`"
   ]
  },
  {
   "cell_type": "markdown",
   "id": "25fbb1ac",
   "metadata": {},
   "source": [
    "### Pushing"
   ]
  },
  {
   "cell_type": "markdown",
   "id": "08d7dc4f",
   "metadata": {},
   "source": [
    "The process of adding local changesfrom your computer to the remote repository."
   ]
  },
  {
   "cell_type": "markdown",
   "id": "ae08298a",
   "metadata": {},
   "source": [
    "`git push`"
   ]
  },
  {
   "cell_type": "markdown",
   "id": "bcb28c92",
   "metadata": {},
   "source": [
    "### Branch"
   ]
  },
  {
   "cell_type": "markdown",
   "id": "e6d65a30",
   "metadata": {},
   "source": [
    "* A branch is a unqiue set of code changes with a unique name.\n",
    "* Branching enables collaboration among users on a project.\n",
    "* Each repository can have one or more branches.\n",
    "* The main branch is the branch where all changes get merged into."
   ]
  },
  {
   "cell_type": "markdown",
   "id": "e38b61fa",
   "metadata": {},
   "source": [
    "### List of all branches"
   ]
  },
  {
   "cell_type": "markdown",
   "id": "34f60808",
   "metadata": {},
   "source": [
    "`git branch`"
   ]
  },
  {
   "cell_type": "markdown",
   "id": "a7ea00e9",
   "metadata": {},
   "source": [
    "### Create a new branch"
   ]
  },
  {
   "cell_type": "markdown",
   "id": "cc3fbf2f",
   "metadata": {},
   "source": [
    "To create a new branch type\n",
    "\n",
    "`git branch <new_branch>`"
   ]
  },
  {
   "cell_type": "markdown",
   "id": "6cd60d2d",
   "metadata": {},
   "source": [
    "### Delete a branch"
   ]
  },
  {
   "cell_type": "markdown",
   "id": "eea18ce2",
   "metadata": {},
   "source": [
    "`git branch -D <branch_name>`"
   ]
  },
  {
   "cell_type": "markdown",
   "id": "76a5d5af",
   "metadata": {},
   "source": [
    "### Switch to a Branch"
   ]
  },
  {
   "cell_type": "markdown",
   "id": "3ad646da",
   "metadata": {},
   "source": [
    "To switch to a branch type:\n",
    "\n",
    "`git checkout <branchname>`"
   ]
  },
  {
   "cell_type": "markdown",
   "id": "2a4fe99b",
   "metadata": {},
   "source": [
    "###  Merging"
   ]
  },
  {
   "cell_type": "markdown",
   "id": "4c8f5b16",
   "metadata": {},
   "source": [
    "Integrating code from a separate branch into the main branch"
   ]
  },
  {
   "cell_type": "markdown",
   "id": "91cf9c79",
   "metadata": {},
   "source": [
    "`git merge <branch>`"
   ]
  },
  {
   "cell_type": "markdown",
   "id": "0eebad74",
   "metadata": {},
   "source": [
    "# Start a new feature\n",
    "\n",
    "git checkout -b new-feature main\n",
    "\n",
    "# Edit some files\n",
    "\n",
    "git add <file>\n",
    "    \n",
    "git commit -m \"Start a feature\"\n",
    "    \n",
    "# Edit some files\n",
    "    \n",
    "git add <file>\n",
    "    \n",
    "git commit -m \"Finish a feature\"\n",
    "    \n",
    "# Merge in the new-feature branch\n",
    "    \n",
    "git checkout main\n",
    "    \n",
    "git merge new-feature\n",
    "    \n",
    "git branch -d new-feature\n",
    "    "
   ]
  },
  {
   "cell_type": "code",
   "execution_count": null,
   "id": "49e5c4ac",
   "metadata": {},
   "outputs": [],
   "source": []
  }
 ],
 "metadata": {
  "kernelspec": {
   "display_name": "Python 3 (ipykernel)",
   "language": "python",
   "name": "python3"
  },
  "language_info": {
   "codemirror_mode": {
    "name": "ipython",
    "version": 3
   },
   "file_extension": ".py",
   "mimetype": "text/x-python",
   "name": "python",
   "nbconvert_exporter": "python",
   "pygments_lexer": "ipython3",
   "version": "3.9.12"
  }
 },
 "nbformat": 4,
 "nbformat_minor": 5
}

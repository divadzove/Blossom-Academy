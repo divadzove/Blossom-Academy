{
 "cells": [
  {
   "cell_type": "markdown",
   "id": "0373fb71",
   "metadata": {},
   "source": [
    "# Assignment On Data Structures  \n",
    "\n",
    "#### By A Team Including  \n",
    "- Divine Adzove  \n",
    "- Ernestina Boatemaa Kyere  \n",
    "- Donna Botchway  \n",
    "- Phoebe Adjei-Frimpong  \n",
    "- Martha Etornam  \n",
    "- Joseph Tugah"
   ]
  },
  {
   "cell_type": "markdown",
   "id": "3c2e90df",
   "metadata": {},
   "source": [
    "### Q1\n",
    "\n",
    "Name the four built-in data structures in python. Give one examples for each"
   ]
  },
  {
   "cell_type": "markdown",
   "id": "2c354405",
   "metadata": {},
   "source": [
    "**Answer:**  \n",
    "**a.** List  \n",
    "Example is [1,2,3,4,5]\n",
    "\n",
    "**b.** Tuple  \n",
    "Example is tuple((1,2,3,4,3))\n",
    "\n",
    "**c.** Sets  \n",
    "Example is {1,2,3,4}\n",
    "\n",
    "**d.** Dictionary  \n",
    "Example is {\"Phoebe\":25, \"Donna\":14,\"Divine\":40,\"Ernestina\":24}"
   ]
  },
  {
   "cell_type": "markdown",
   "id": "b6e1dd1b",
   "metadata": {},
   "source": [
    "### Q2\n",
    "\n",
    "State two differences between a list and a tuple in Python."
   ]
  },
  {
   "cell_type": "markdown",
   "id": "add76d2c",
   "metadata": {},
   "source": [
    "**Answer:**  \n",
    "**a.** List makes use of the square brackets, [] whilst tuple makes use of the parenthesis, ().  \n",
    "\n",
    "**b.** List is mutable, can be modified, whilst tuple is immutable, can not be modified."
   ]
  },
  {
   "cell_type": "markdown",
   "id": "815b4e67",
   "metadata": {},
   "source": [
    "### Q3\n",
    "Make a list containing names of five animals with a variable name `animal_list`\n",
    "\n",
    "Write a code for the following:\n",
    "- Print the first two animals\n",
    "- Print the last two animals\n",
    "- Add three extra animals to the variable `animal_list`\n",
    "- Remove the first two animals from the variable `animal_list`\n",
    "- How many animals are in the `animal_list`?\n",
    "- Create a variable animal_set which stores the set of animal_list \n",
    "- How many elements are in the animal_set?\n"
   ]
  },
  {
   "cell_type": "code",
   "execution_count": 57,
   "id": "df5997b6",
   "metadata": {},
   "outputs": [
    {
     "name": "stdout",
     "output_type": "stream",
     "text": [
      "['Lion', 'Tiger', 'Ant', 'Giraffe', 'Rabbit']\n",
      "The first two animals are ['Lion', 'Tiger']\n",
      "The last two animals are ['Giraffe', 'Rabbit']\n",
      "The extended list is ['Lion', 'Tiger', 'Ant', 'Giraffe', 'Rabbit', 'Zebra', 'Dog', 'Cat']\n",
      "After deletion,the list is ['Ant', 'Giraffe', 'Rabbit', 'Zebra', 'Dog', 'Cat']\n",
      "The number of animals listed is 6\n",
      "{'Ant', 'Dog', 'Zebra', 'Cat', 'Rabbit', 'Giraffe'}\n",
      "The number of animals listed in the set is 6\n"
     ]
    }
   ],
   "source": [
    "#Create a list of animals\n",
    "animal_list = ['Lion', 'Tiger', 'Ant', 'Giraffe', 'Rabbit']\n",
    "print(animal_list)\n",
    "\n",
    "#Print the first two animals\n",
    "print(\"The first two animals are\", animal_list[:2])\n",
    "\n",
    "#Print the last two animals\n",
    "print(\"The last two animals are\", animal_list[-2:])\n",
    "\n",
    "#Add three extra animals to the list\n",
    "animal_list.extend(['Zebra', 'Dog', 'Cat'])\n",
    "print(\"The extended list is\", animal_list)\n",
    "\n",
    "#Remove the first two animals from the list\n",
    "del animal_list[:2]\n",
    "print(\"After deletion,the list is\", animal_list)\n",
    "\n",
    "#Print the number of animals listed\n",
    "print(\"The number of animals listed is\", len(animal_list))\n",
    "\n",
    "#Store the animal list as a set\n",
    "animal_set = set(animal_list)\n",
    "print(animal_set)\n",
    "\n",
    "#Print the number of animals listed in the animal set\n",
    "print(\"The number of animals listed in the set is\", len(animal_set))"
   ]
  },
  {
   "cell_type": "markdown",
   "id": "113c9970",
   "metadata": {},
   "source": [
    "### Q4\n",
    "\n",
    "Given a list:\n",
    "\n",
    "suitcase = [\"sunglasses\", \"hat\", \"passport\", \"laptop\", \"suit\", \"shoes\"]\n",
    "\n",
    "a. Create a list called first containing only the two first items from suitcase.\n",
    "\n",
    "b. Create a list called middle containing only the two middle items from suitcase.\n",
    "\n",
    "c. Create a list called last made up only of the last two items from suitcase."
   ]
  },
  {
   "cell_type": "code",
   "execution_count": 58,
   "id": "f7f06f27",
   "metadata": {},
   "outputs": [
    {
     "name": "stdout",
     "output_type": "stream",
     "text": [
      "The two first items from the suitcase list are ['sunglasses', 'hat']\n",
      "The two middle items from the suitcase list are ['passport', 'laptop']\n",
      "The two last items from the suitcase list are ['suit', 'shoes']\n"
     ]
    }
   ],
   "source": [
    "#Create a variable to store the list of items in a suitcase\n",
    "suitcase = [\"sunglasses\", \"hat\", \"passport\", \"laptop\", \"suit\", \"shoes\"]\n",
    "\n",
    "#Create a list called first containing only the two first items from suitcase.\n",
    "first = list(suitcase[:2])\n",
    "print(\"The two first items from the suitcase list are\", first)\n",
    "\n",
    "#Create a list called middle containing only the two middle items from suitcase.\n",
    "middle = list(suitcase[2:4])\n",
    "print(\"The two middle items from the suitcase list are\", middle)\n",
    "\n",
    "#Create a list called last containing only the two last items from suitcase.\n",
    "last = list(suitcase[-2:])\n",
    "print(\"The two last items from the suitcase list are\", last)"
   ]
  },
  {
   "cell_type": "markdown",
   "id": "711ba044",
   "metadata": {},
   "source": [
    "### Q5\n",
    "Write a python code to insert 35 into the list below. Make sure it is inserted in the right position to maintain the order of the data.\n",
    "\n",
    "`values = [20,25,30,40,45,50,55,60,65,70]`"
   ]
  },
  {
   "cell_type": "code",
   "execution_count": 59,
   "id": "67d3f5fb",
   "metadata": {},
   "outputs": [
    {
     "name": "stdout",
     "output_type": "stream",
     "text": [
      "The new list is [20, 25, 30, 35, 40, 45, 50, 55, 60, 65, 70]\n"
     ]
    }
   ],
   "source": [
    "#Create a variable to store a list of values.\n",
    "values = [20,25,30,40,45,50,55,60,65,70]\n",
    "\n",
    "#Insert 35 into the list of values stored\n",
    "values.insert(3,35)\n",
    "\n",
    "#Print out the updated list\n",
    "print(\"The new list is\", values)"
   ]
  },
  {
   "cell_type": "markdown",
   "id": "f535cf64",
   "metadata": {},
   "source": [
    "### Q6\n",
    "\n",
    "Given that Python lists and Python tuples are quite similar – when might you prefer to use a tuple over a list?"
   ]
  },
  {
   "cell_type": "markdown",
   "id": "6078e16c",
   "metadata": {},
   "source": [
    "**Answer:** One will prefer to use a tuple over a list when using a temporary variable knowing it will be discarded without modifying."
   ]
  },
  {
   "cell_type": "markdown",
   "id": "346927f6",
   "metadata": {},
   "source": [
    "### Q7\n",
    "Create a dictionary with 5 Ghana regions and their capitals and store it in the variable `region_capital`\n",
    "\n",
    "- Print out the keys of region_capital\n",
    "- Print out the values of region_capital\n"
   ]
  },
  {
   "cell_type": "code",
   "execution_count": 60,
   "id": "4ad90082",
   "metadata": {},
   "outputs": [
    {
     "name": "stdout",
     "output_type": "stream",
     "text": [
      "dict_keys(['Greater Accra', 'Eastern Region', 'Central Region', 'Volta Region', 'Ashanti Region'])\n",
      "dict_values(['Accra', 'Koforidua', 'Cape Coast', 'Ho', 'Kumasi'])\n"
     ]
    }
   ],
   "source": [
    "#Create a dictionary\n",
    "region_capital = {\"Greater Accra\":\"Accra\",\n",
    "                  \"Eastern Region\":\"Koforidua\",\n",
    "                  \"Central Region\":\"Cape Coast\",\n",
    "                  \"Volta Region\":\"Ho\",\n",
    "                  \"Ashanti Region\":\"Kumasi\"}\n",
    "\n",
    "#Print out the keys of the dictionary created\n",
    "print(region_capital.keys())\n",
    "\n",
    "#Print out the values of the dictionary created\n",
    "print(region_capital.values())"
   ]
  },
  {
   "cell_type": "markdown",
   "id": "70526b3b",
   "metadata": {},
   "source": [
    "### Q8\n",
    "\n",
    "`values = [3,4,5,6,3,4,3,5,2,4,2,5,6,1,6]`\n",
    "\n",
    "Using the codes above answer the following questions:\n",
    "- What is the total number of elements in values?\n",
    "- What is the highest occuring number in the values variable?\n",
    "- Convert values into a set and store it into a variable named `values_set`\n",
    "- How many elements are in the variable values_set?\n"
   ]
  },
  {
   "cell_type": "code",
   "execution_count": 61,
   "id": "db728c25",
   "metadata": {},
   "outputs": [
    {
     "name": "stdout",
     "output_type": "stream",
     "text": [
      "The total number of elements in values is 15\n",
      "The highest occuring number in the values variable is 6\n",
      "Values converted into a set is displayed as {1, 2, 3, 4, 5, 6}\n",
      "The number of elements in the values_set is 6\n"
     ]
    }
   ],
   "source": [
    "#Create a variable to store a list of values.\n",
    "values = [3,4,5,6,3,4,3,5,2,4,2,5,6,1,6]\n",
    "\n",
    "#Print the total number of elements in values\n",
    "print(\"The total number of elements in values is\", len(values))\n",
    "\n",
    "#Print the highest occuring number in the values variable\n",
    "print(\"The highest occuring number in the values variable is\", max(values))\n",
    "\n",
    "#Convert values into a set\n",
    "values_set = set(values)\n",
    "print(\"Values converted into a set is displayed as\", values_set)\n",
    "\n",
    "#Number of elements in the variable values_set\n",
    "print(\"The number of elements in the values_set is\", len(values_set))"
   ]
  },
  {
   "cell_type": "markdown",
   "id": "801d5876",
   "metadata": {},
   "source": [
    "### Q9\n",
    "Write a Python script to print a dictionary where the keys are numbers between 1 and 15 (both included) and the values are the square of the keys."
   ]
  },
  {
   "cell_type": "code",
   "execution_count": 62,
   "id": "5c30641e",
   "metadata": {},
   "outputs": [
    {
     "name": "stdout",
     "output_type": "stream",
     "text": [
      "{1: 1, 2: 4, 3: 9, 4: 16, 5: 25, 6: 36, 7: 49, 8: 64, 9: 81, 10: 100, 11: 121, 12: 144, 13: 169, 14: 196, 15: 225}\n"
     ]
    }
   ],
   "source": [
    "#Create a dictionary with keys 1 to 15 and values as the square of the keys.\n",
    "square_dict = {a: a**2 \n",
    "               for a \n",
    "               in \n",
    "                   range(1, 16)}\n",
    "\n",
    "#Display content of dictionary created\n",
    "print(square_dict)"
   ]
  },
  {
   "cell_type": "markdown",
   "id": "18954e57",
   "metadata": {},
   "source": [
    "### Q10\n",
    "Write a Python program to create a dictionary of keys x, y, and z where each key has as value a list from 11-20, 21-30, and 31-40 respectively. Access the fifth value of each key from the dictionary."
   ]
  },
  {
   "cell_type": "code",
   "execution_count": 63,
   "id": "fec19820",
   "metadata": {},
   "outputs": [
    {
     "name": "stdout",
     "output_type": "stream",
     "text": [
      "The fifth value of the dictionary key 'x' is: 15\n",
      "The fifth value of the dictionary key 'y' is: 25\n",
      "The fifth value of the dictionary key 'z' is: 35\n"
     ]
    }
   ],
   "source": [
    "#Create a dictionary of keys x, y, and z with list values ranging from 11-20, 21-30, and 31-40 respectively.\n",
    "range_dict = {\n",
    "    'x': list(range(11, 21)),\n",
    "    'y': list(range(21, 31)),\n",
    "    'z': list(range(31, 41))\n",
    "}\n",
    "\n",
    "# Access and print the fifth value of each key\n",
    "print(\"The fifth value of the dictionary key 'x' is:\", data_dict['x'][4])\n",
    "print(\"The fifth value of the dictionary key 'y' is:\", data_dict['y'][4])\n",
    "print(\"The fifth value of the dictionary key 'z' is:\", data_dict['z'][4])"
   ]
  }
 ],
 "metadata": {
  "kernelspec": {
   "display_name": "Python 3 (ipykernel)",
   "language": "python",
   "name": "python3"
  },
  "language_info": {
   "codemirror_mode": {
    "name": "ipython",
    "version": 3
   },
   "file_extension": ".py",
   "mimetype": "text/x-python",
   "name": "python",
   "nbconvert_exporter": "python",
   "pygments_lexer": "ipython3",
   "version": "3.11.5"
  }
 },
 "nbformat": 4,
 "nbformat_minor": 5
}

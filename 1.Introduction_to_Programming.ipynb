{
 "cells": [
  {
   "cell_type": "markdown",
   "id": "4f8f496d",
   "metadata": {},
   "source": [
    "- ### What is Data Science?\n",
    "Data science is the field of study that combines domain expertise, programming skills, and knowledge of mathematics and statistics to extract meaningful insights from data. Data science practitioners apply machine learning algorithms to numbers, text, images, video, audio, and more to produce artificial intelligence (AI) systems to perform tasks that ordinarily require human intelligence. In turn, these systems generate insights which analysts and business users can translate into tangible business value."
   ]
  },
  {
   "attachments": {
    "Screen-Shot-2018-03-21-at-10.41.22-AM.webp": {
     "image/webp": "[encoded data removed]"
    }
   },
   "cell_type": "markdown",
   "id": "391e361b",
   "metadata": {},
   "source": [
    "![Screen-Shot-2018-03-21-at-10.41.22-AM.webp](attachment:Screen-Shot-2018-03-21-at-10.41.22-AM.webp)"
   ]
  },
  {
   "cell_type": "markdown",
   "id": "bfd2be96",
   "metadata": {
    "slideshow": {
     "slide_type": "slide"
    }
   },
   "source": [
    "- ### Program\n",
    "\n",
    "A program  is a set of instructions that a computer can execute to perform a specific task or set of task"
   ]
  },
  {
   "cell_type": "markdown",
   "id": "8d6ab0c4",
   "metadata": {
    "slideshow": {
     "slide_type": "slide"
    }
   },
   "source": [
    "- ### Computer Programming\n",
    "\n",
    "Computer programming is process of developing and producing instructions that a computer can comprehend and execute. These commands, usually referred to as code, are written in a variety of computer languages, including C++, Python, Java, and others. \n",
    "\n",
    "These languages are used by programmers to build software, mobile applications, websites, and other computer systems. In order to test and enhance their code, they also use debugging tools.\n",
    "\n",
    "Computer science's core discipline of programming is employed in a wide range of fields, including technology, healthcare, and the financial sector."
   ]
  },
  {
   "cell_type": "markdown",
   "id": "d70c574d",
   "metadata": {
    "slideshow": {
     "slide_type": "slide"
    }
   },
   "source": [
    "- ### Programming Language\n",
    "\n",
    "A programming language is a set of instructions written by a programmer to deliver instructions to the computer to perform and accomplish a task.\n",
    "\n",
    "Some examples of programming languages are C++, Python, Java, JavaScript, C#, and many more.\n",
    "\n",
    "Each programming language has its own set of rules for syntax, semantics, and grammar that the programmer must learn and follow. \n",
    "\n",
    "Each language has its own unique features and capabilities."
   ]
  },
  {
   "cell_type": "code",
   "execution_count": 1,
   "id": "4beda740",
   "metadata": {},
   "outputs": [
    {
     "name": "stdout",
     "output_type": "stream",
     "text": [
      "hello world\n"
     ]
    }
   ],
   "source": [
    "print('hello world')"
   ]
  },
  {
   "cell_type": "markdown",
   "id": "1c63fe1d",
   "metadata": {
    "slideshow": {
     "slide_type": "slide"
    }
   },
   "source": [
    "- ### Machine Language\n",
    "\n",
    "Machine language also known as machine code or assembly code, is the lowest-level programming language that is directly executed by a computer's central processing unit (CPU). \n",
    "\n",
    "It consists of binary digits (0 and 1) and represents the basic instructions that the CPU can execute. \n",
    "\n",
    "Each instruction in machine code corresponds to a specific operation that the CPU can perform, such as moving data from one memory location to another, performing arithmetic calculations, or jumping to a different instruction in the program."
   ]
  },
  {
   "cell_type": "markdown",
   "id": "e6cd6b27",
   "metadata": {
    "slideshow": {
     "slide_type": "slide"
    }
   },
   "source": [
    "- ### High Level Language\n",
    "\n",
    "A high-level programming language is a programming language that provides a high level of abstraction from a computer's instruction set architecture. High-level languages are designed to be more human-readable and are closer to natural language than low-level languages.\n",
    "\n",
    "Examples of high-level languages include Python, Java, C#, JavaScript, and many more"
   ]
  },
  {
   "cell_type": "markdown",
   "id": "d99db0b8",
   "metadata": {
    "slideshow": {
     "slide_type": "slide"
    }
   },
   "source": [
    "- ### Low Level Language\n",
    "\n",
    "They are used to write programs that relate to the specific architecture and hardware of a particular type of computer.\n",
    "\n",
    "They are closer to the native language of a computer (binary), making them harder for programmers to understand.\n",
    "\n",
    "Examples include Assembly Language, Machine Code"
   ]
  },
  {
   "cell_type": "markdown",
   "id": "3dde20e5",
   "metadata": {
    "slideshow": {
     "slide_type": "slide"
    }
   },
   "source": [
    "- ### Compiler\n",
    "\n",
    "A compiler is a type of computer program that converts source code written in a high-level programming language into machine code that can be executed by a computer. \n",
    "\n",
    "Compilers are commonly used for languages such as C, C++, C# and other languages that are compiled before they are executed. \n",
    "\n",
    "This process is known as \"compile-time\". Compilers are also used to optimize the machine code to make the program run faster and use fewer resources."
   ]
  },
  {
   "cell_type": "markdown",
   "id": "f19d5665",
   "metadata": {
    "slideshow": {
     "slide_type": "slide"
    }
   },
   "source": [
    "- ### Interpreter\n",
    "\n",
    "An interpreter is a type of computer program that executes instructions written in a programming language, one instruction at a time.\n",
    "\n",
    "Interpreters are commonly used for languages such as PHP, Ruby, Python, and JavaScript."
   ]
  },
  {
   "cell_type": "markdown",
   "id": "c17bce43",
   "metadata": {
    "slideshow": {
     "slide_type": "slide"
    }
   },
   "source": [
    "- ### Syntax\n",
    "\n",
    "The syntax of a programming language refers to the set of rules that govern the structure and format of the code written in that language. \n",
    "\n",
    "It defines how the code should be written, including things like how statements are separated, how variables are defined, how functions are called, and how program flow is controlled. \n"
   ]
  },
  {
   "cell_type": "markdown",
   "id": "6b5f7a35",
   "metadata": {
    "slideshow": {
     "slide_type": "slide"
    }
   },
   "source": [
    "- ### Algorithm\n",
    "\n",
    "An algorithm in computing is a step-by-step procedure for solving a problem or achieving a specific task. \n",
    "\n",
    "It is a set of instructions that, when executed, will accomplish a specific task or produce a desired output."
   ]
  },
  {
   "cell_type": "markdown",
   "id": "ebd8503c",
   "metadata": {},
   "source": [
    "## Key Terms  \n",
    "**Programming code** - Programming code is a set of written computer instructions, guided by rules, using a computer programming language. It might help to think of the computer instructions as a detailed, step-by-step recipe for performing tasks. The instructions tell computers and machines how to perform an action. Programming code may also be referred to as source code or scripts.\n",
    "\n",
    "Programming languages - Programming languages are similar to human spoken languages in that they both use syntax and semantics. Programming languages are used to write computer programs.  Some common programming languages include Python, Java, C, C++, C#, and R.\n",
    "\n",
    "Syntax - Syntax is a set of rules for how statements are constructed in both human and computer languages. Programming syntax includes rules for the order of elements in programming instructions, as well as the use of special characters and their placements in statements. This concept is similar to the syntax rules for grammar and punctuation in human language.\n",
    "\n",
    "Semantics - Semantics refers to the intended meaning or effect of statements, or collections of words, in both human and computer languages. Semantic errors are also referred to as logical errors.\n",
    "\n",
    "Computer program - A computer program is a step-by-step list of instructions that a computer follows to reach an intended goal. It is important to be clear and precise about the actions a computer program is supposed to perform because computers will do exactly what they are instructed to do. Computer programs can be long, complex, and accomplish a variety of tasks. They are often developed by computer programmers and software engineers, but anyone can learn to create them. Computer programs may involve a structured development cycle. They can be written in a wide variety of programming languages, such as Python, Java, C++,  R, and more. The completed format of a program is often a single executable file.\n",
    "\n",
    "Script - Scripts are usually shorter and less complex than computer programs. Scripts are often used to automate specific tasks. However, they can be used for complex tasks if needed. Scripts are often written by IT professionals, but anyone can learn to write scripts. Scripts have a shorter, less structured development cycle as compared to the development of complex computer programs and software. Scripts can be written in a variety of programming languages, like Python, Javascript, Ruby, Bash, and more. Some scripting languages are interpreted languages and are only compatible with certain platforms.\n",
    "\n",
    "Automation - Automation is used to replace a repetitive manual step with one that happens automatically. \n",
    "\n",
    "Output - Output is the end result of a task performed by a function or computer program. Output can include a single value, a report, entries into a database, and more. \n",
    "\n",
    "Input - Input is information that is provided to a program by the end user. Input can be text, voice, images, biometrics, and more.   \n",
    "\n",
    "Functions - A function is a reusable block of code that performs a specific task.\n",
    "\n",
    "Variables - Variables are used to temporarily store changeable values in programming code. "
   ]
  },
  {
   "cell_type": "markdown",
   "id": "515d6b29",
   "metadata": {
    "slideshow": {
     "slide_type": "slide"
    }
   },
   "source": [
    "- ### Integrated Development Environment (IDE) \n",
    "\n",
    "An Integrated Development Environment (IDE) is a software application that provides a comprehensive set of tools for software development.\n",
    "\n",
    "An IDE typically includes a code editor, a compiler or interpreter, a debugger, and other tools that are necessary for software development such as a source code control system, a version control system, and various other utilities."
   ]
  },
  {
   "cell_type": "markdown",
   "id": "f4321313",
   "metadata": {
    "slideshow": {
     "slide_type": "slide"
    }
   },
   "source": [
    "- ### Code Editor\n",
    "\n",
    "A code editor is a type of software application that is designed to help programmers write and edit source code. It is a text editor specifically designed for programmers, with features that make it easier to write and understand code.\n",
    "\n",
    "A code editor usually provides features like syntax highlighting, code completion, and code folding, which make the code more readable and easier to understand.\n",
    "\n",
    "Some popular code editors are Visual Studio Code, Sublime Text, Atom, Notepad++ and many more."
   ]
  },
  {
   "cell_type": "markdown",
   "id": "a326a7b9",
   "metadata": {
    "slideshow": {
     "slide_type": "slide"
    }
   },
   "source": [
    "- ### Debugger\n",
    "\n",
    "This tool is used during testing to help debug application programs."
   ]
  }
 ],
 "metadata": {
  "celltoolbar": "Slideshow",
  "kernelspec": {
   "display_name": "Python 3 (ipykernel)",
   "language": "python",
   "name": "python3"
  },
  "language_info": {
   "codemirror_mode": {
    "name": "ipython",
    "version": 3
   },
   "file_extension": ".py",
   "mimetype": "text/x-python",
   "name": "python",
   "nbconvert_exporter": "python",
   "pygments_lexer": "ipython3",
   "version": "3.10.9"
  },
  "vscode": {
   "interpreter": {
    "hash": "a077222d77dfe082b8f1dd562ad70e458ac2ab76993a0b248ab0476e32e9e8dd"
   }
  }
 },
 "nbformat": 4,
 "nbformat_minor": 5
}

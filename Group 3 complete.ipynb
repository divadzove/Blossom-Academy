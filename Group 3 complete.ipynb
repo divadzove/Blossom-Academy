{
 "cells": [
  {
   "cell_type": "markdown",
   "id": "2c0551c7",
   "metadata": {},
   "source": [
    "# Assignment On Data Types  \n",
    "\n",
    "#### By A Team Including  \n",
    "- Divine Adzove  \n",
    "- Ernestina Boatemaa Kyere  \n",
    "- Donna Botchway  \n",
    "- Phoebe Adjei-Frimpong  \n",
    "- Martha Etornam  \n",
    "- Joseph Tugah"
   ]
  },
  {
   "cell_type": "markdown",
   "id": "1971db0e",
   "metadata": {},
   "source": [
    "### Q1\n",
    "List the basic data types in python and give one example each."
   ]
  },
  {
   "cell_type": "markdown",
   "id": "f3beb13a",
   "metadata": {},
   "source": [
    "**Answer :**  \n",
    "**a.** Integer  \n",
    "Example is 1\n",
    "\n",
    "**b.** Float   \n",
    "Example is 5.3\n",
    "\n",
    "**c.** Boolean  \n",
    "Example is True\n",
    "\n",
    "**d.** String  \n",
    "Example is \"Martha\""
   ]
  },
  {
   "cell_type": "markdown",
   "id": "4a2be5ba",
   "metadata": {},
   "source": [
    "### Q2\n",
    "Change the variable x = 4539.85 to :\n",
    "\n",
    "(i) a string and assign it to a new variable y,\n",
    "\n",
    "(ii) an integer and assign it to a new variable z\n",
    "\n",
    "Print out the type of y and z."
   ]
  },
  {
   "cell_type": "code",
   "execution_count": 1,
   "id": "4f69aaca",
   "metadata": {},
   "outputs": [
    {
     "name": "stdout",
     "output_type": "stream",
     "text": [
      "The data type of 'y' is <class 'str'>\n",
      "The data type of 'z' is <class 'int'>\n"
     ]
    }
   ],
   "source": [
    "#Create a variable to store a value\n",
    "x = 4539.85\n",
    "\n",
    "#Change the value to a string\n",
    "y = str (x)\n",
    "\n",
    "#Change the value to an integer\n",
    "z = int (x)\n",
    "\n",
    "#Print out the type of y and z\n",
    "print (\"The data type of 'y' is\", type(y))\n",
    "print(\"The data type of 'z' is\", type(z))"
   ]
  },
  {
   "cell_type": "markdown",
   "id": "81a1251c",
   "metadata": {},
   "source": [
    "### Q3\n",
    "\n",
    "What data type would you use to store\n",
    "\n",
    "a. The price of car?  \n",
    "**Float**\n",
    "\n",
    "b. The age of a person  \n",
    "**Integer**\n",
    "\n",
    "c. car plate number: plateNumber = \"AV01-AFP\"?  \n",
    "**String**\n",
    "\n",
    "d. The price of fuel  \n",
    "**Float**\n",
    "\n",
    "e. The number of students in the class  \n",
    "**Integer**\n",
    "\n",
    "f. The weight of a person  \n",
    "**Float**\n",
    "\n",
    "g. Check whether two figures are equal  \n",
    "**Boolean**\n",
    "\n",
    "i. The name of a  school  \n",
    "**String**\n",
    "\n",
    "j. The average result of the overall score of a student  \n",
    "**Float**\n",
    "\n",
    "k. The total number of vote cast  \n",
    "**Integer**\n",
    "\n"
   ]
  },
  {
   "cell_type": "markdown",
   "id": "f0694362",
   "metadata": {},
   "source": [
    "### Q4\n",
    "**Thomas Partey is arguably the best player in the Black Stars. He is a great addition to the team**\n",
    "\n",
    "Split the statement above into **two statement_1** and **statement_2** such that statement_1 will be 'Thomas Partey is arguably the best player in the Black Stars' and statement_2 will be 'He is a great addition to the team'\n",
    "\n",
    "Statement:\n",
    "\n",
    "- **What is the length of statment 1?**\n",
    "-**What is the length of statment 2?**\n",
    "-**Is the length of statement 1 greater than statement 2**"
   ]
  },
  {
   "cell_type": "code",
   "execution_count": 3,
   "id": "a8aeaf68",
   "metadata": {},
   "outputs": [
    {
     "name": "stdout",
     "output_type": "stream",
     "text": [
      "Statement_1 : Thomas Partey is arguably the best player in the Black Stars\n",
      "Statement_2 : He is a great addition to the team\n",
      "The length of statment 1 is 60\n",
      "The length of statment 2 is 34\n",
      "The statement above is True\n"
     ]
    }
   ],
   "source": [
    "#Create a variable to store the string\n",
    "statement = str (\"Thomas Partey is arguably the best player in the Black Stars. He is a great addition to the team\")\n",
    "\n",
    "#Split the statement with the dot and space delimeter\n",
    "statements = statement.split(\". \")\n",
    "\n",
    "#Assign the first statement to a variable\n",
    "statement_1 = statements [0]\n",
    "print(\"Statement_1 :\", statement_1)\n",
    "\n",
    "#Assign the second statement to a variable\n",
    "statement_2 = statements [1]\n",
    "print(\"Statement_2 :\", statement_2)\n",
    "\n",
    "#Print the lenght of statement_1\n",
    "a = len(statement_1)\n",
    "print(\"The length of statment 1 is\", a)\n",
    "\n",
    "#Print the lenght of statement_2\n",
    "b = len(statement_2)\n",
    "print(\"The length of statment 2 is\", b)\n",
    "\n",
    "#The length of statement 1 greater than statement 2\n",
    "c = a > b\n",
    "print(\"The statement above is\", c)"
   ]
  },
  {
   "cell_type": "markdown",
   "id": "ceb46447",
   "metadata": {},
   "source": [
    "### Q5\n",
    "What values does python use to represent **True** and **False** respectively?  \n",
    "\n",
    "\n",
    "*Answer:* **1** and **0** respectively"
   ]
  },
  {
   "cell_type": "markdown",
   "id": "e4cc9b15",
   "metadata": {},
   "source": [
    "### Q6\n",
    "Write a code to evaluate if the following statments are True or False.  \n",
    "\n",
    "1. 78 is greater than 46 and less than 30 which is an odd number.\n",
    "\n",
    "2. 8-2 is an even number or 8 is a is an odd number.\n",
    "\n",
    "3. The number of characters in the word 'boostrap' is 7 and that of 'sample' is 6."
   ]
  },
  {
   "cell_type": "code",
   "execution_count": 5,
   "id": "fd341447",
   "metadata": {},
   "outputs": [
    {
     "name": "stdout",
     "output_type": "stream",
     "text": [
      "The first statement above is False\n",
      "The second statement above is True\n",
      "The last statement above is False\n"
     ]
    }
   ],
   "source": [
    "#Create variables to store the values\n",
    "a = 78\n",
    "b = 46\n",
    "c = 30\n",
    "\n",
    "#78 is greater than 46 and less than 30 which is an odd number.\n",
    "Q1 = (a > b) and (a < c) and (c % 2 != 0)\n",
    "print(\"The first statement above is\", Q1)\n",
    "\n",
    "#Create variables to store the values\n",
    "d = 8 \n",
    "e = 2\n",
    "\n",
    "#8-2 is an even number or 8 is a is an odd number\n",
    "Q2 = (d-e) % 2 == 0 or d % 2 != 0\n",
    "print(\"The second statement above is\", Q2)\n",
    "\n",
    "#Create variables to store the strings\n",
    "text1 = \"boostrap\"\n",
    "text2 = \"sample\"\n",
    "\n",
    "#The number of characters in the word 'boostrap' is 7 and that of 'sample' is 6\n",
    "Q3 = len(text1) == 7 and len(text2) == 6\n",
    "print(\"The last statement above is\", Q3)\n"
   ]
  },
  {
   "cell_type": "markdown",
   "id": "bc13f9fc",
   "metadata": {},
   "source": [
    "### Q7\n",
    "Given the following python code,\n",
    "\n",
    "`word='Hello, How are you?'`\n",
    "\n",
    "Write Python code to return the following\n",
    "\n",
    "- How\n",
    "- How are you\n",
    "- are\n",
    "- ?\n",
    "- Hello, How are you\n",
    "\n",
    "\n",
    " "
   ]
  },
  {
   "cell_type": "code",
   "execution_count": 6,
   "id": "13b99726",
   "metadata": {},
   "outputs": [
    {
     "name": "stdout",
     "output_type": "stream",
     "text": [
      "The list of strings : ['Hello,', 'How', 'are', 'you', '?']\n",
      "How\n",
      "How are you\n",
      "are\n",
      "?\n",
      "Hello, How are you\n"
     ]
    }
   ],
   "source": [
    "#Store the string in a variable\n",
    "word = \"Hello, How are you ?\"\n",
    "\n",
    "#Split to create a list of strings\n",
    "words = word.split(\" \")\n",
    "print(\"The list of strings :\", words)\n",
    "\n",
    "#Return 'How'\n",
    "string1 = words[1]\n",
    "print(string1)\n",
    "\n",
    "#Return 'How are you'\n",
    "string2 = \" \".join(words[1:4])\n",
    "print(string2)\n",
    "\n",
    "#Return 'are'\n",
    "string3 = words[2]\n",
    "print(string3)\n",
    "\n",
    "#Return '?'\n",
    "string4 = words[4]\n",
    "print(string4)\n",
    "\n",
    "#Return 'Hello, How are you'\n",
    "string5 = \" \".join(words[0:4])\n",
    "print(string5)"
   ]
  },
  {
   "cell_type": "markdown",
   "id": "e4167de5",
   "metadata": {},
   "source": [
    "### Q8\n",
    "Given the following python code,\n",
    "\n",
    "`sentence = \"I am very excited\"`\n",
    "\n",
    "Write Python code to return \n",
    "- Convert sentence to upper case\n",
    "- Convert sentence to lower case\n",
    "- Convert sentence to title case\n",
    "- Convert sentence to list of strings\n",
    " "
   ]
  },
  {
   "cell_type": "code",
   "execution_count": 7,
   "id": "5d4050fe",
   "metadata": {},
   "outputs": [
    {
     "name": "stdout",
     "output_type": "stream",
     "text": [
      "Upper Case : I AM VERY EXCITED\n",
      "Lower Case : i am very excited\n",
      "Title Case : I Am Very Excited\n",
      "List of strings: ['I', 'am', 'very', 'excited']\n"
     ]
    }
   ],
   "source": [
    "#Create a variable to store the string\n",
    "sentence = \"I am very excited\"\n",
    "\n",
    "#Convert sentence to upper case\n",
    "uppercase = sentence.upper()\n",
    "print(\"Upper Case :\", uppercase)\n",
    "\n",
    "#Convert sentence to lower case\n",
    "lowercase = sentence.lower()\n",
    "print(\"Lower Case :\", lowercase)\n",
    "\n",
    "#Convert sentence to title case\n",
    "titlecase = sentence.title()\n",
    "print(\"Title Case :\", titlecase)\n",
    "\n",
    "#Convert sentence to list of strings\n",
    "string_list = sentence.split()\n",
    "print(\"List of strings:\", string_list)\n"
   ]
  },
  {
   "cell_type": "markdown",
   "id": "4faf0134",
   "metadata": {},
   "source": [
    "### Q9\n",
    "`word = 'OneThirtyEight'`\n",
    "\n",
    "Using Python code extract the following from the variable word:\n",
    "- One\n",
    "- Thirty\n",
    "- Eight\n",
    "- OneThirty\n",
    "- ThirtyEight\n",
    "- ONETHIRTYEIGHT"
   ]
  },
  {
   "cell_type": "code",
   "execution_count": 8,
   "id": "97e81715",
   "metadata": {},
   "outputs": [
    {
     "name": "stdout",
     "output_type": "stream",
     "text": [
      "One\n",
      "Thirty\n",
      "Eight\n",
      "OneThirty\n",
      "ThirtyEight\n",
      "ONETHIRTYEIGHT\n"
     ]
    }
   ],
   "source": [
    "#Create a variable to store the sting\n",
    "word = 'OneThirtyEight'\n",
    "\n",
    "#Extract 'One'\n",
    "B1 = word [0:3]\n",
    "print(B1)\n",
    "\n",
    "#Extract 'Thirty'\n",
    "B2 = word [3:9]\n",
    "print(B2)\n",
    "\n",
    "#Extract 'Eight'\n",
    "B3 = word [9:]\n",
    "print(B3)\n",
    "\n",
    "#Extract 'OneThirty'\n",
    "B4 = word [0:9]\n",
    "print(B4)\n",
    "\n",
    "#Extract 'ThirtyEight'\n",
    "B5 = word [3:]\n",
    "print(B5)\n",
    "\n",
    "#Extract the string in upper case\n",
    "B6 = word.upper()\n",
    "print(B6)"
   ]
  },
  {
   "cell_type": "markdown",
   "id": "2a4eea1f",
   "metadata": {},
   "source": [
    "### Q10\n",
    "Turn Ault'Kelly into a string and assign it to a variable  called name."
   ]
  },
  {
   "cell_type": "code",
   "execution_count": 9,
   "id": "aa2f0a08",
   "metadata": {},
   "outputs": [
    {
     "name": "stdout",
     "output_type": "stream",
     "text": [
      "The data type of the variable name is <class 'str'>\n"
     ]
    }
   ],
   "source": [
    "#Create a variable to store a string\n",
    "name = \"Ault'Kelly\"\n",
    "\n",
    "#Print the data type of the variable created\n",
    "print (\"The data type of the variable name is\", type(name))"
   ]
  }
 ],
 "metadata": {
  "kernelspec": {
   "display_name": "Python 3 (ipykernel)",
   "language": "python",
   "name": "python3"
  },
  "language_info": {
   "codemirror_mode": {
    "name": "ipython",
    "version": 3
   },
   "file_extension": ".py",
   "mimetype": "text/x-python",
   "name": "python",
   "nbconvert_exporter": "python",
   "pygments_lexer": "ipython3",
   "version": "3.11.5"
  }
 },
 "nbformat": 4,
 "nbformat_minor": 5
}

{
 "cells": [
  {
   "cell_type": "markdown",
   "id": "fba29639",
   "metadata": {},
   "source": [
    "### Hypothesis\n",
    "Hypothesis is a proposed explanation or idea that can be tested through research or experimentation. \n",
    "\n",
    "It is  a specific statement of prediction that is to be accepted or rejected after an experiment. "
   ]
  },
  {
   "cell_type": "markdown",
   "id": "9aa91439",
   "metadata": {},
   "source": [
    "### Types of Hypothesis\n",
    "\n",
    "- Null Hypothesis: \n",
    "The null hypothesis (H0) is a statement or assumption that there is no significant difference or relationship between two or more variables.\n",
    "\n",
    "\n",
    "- Alternative Hypothesis:\n",
    "The alternative hypothesis (H1) is a statement or assumption that there is a significant difference or relationship between two or more variables.\n",
    " "
   ]
  },
  {
   "cell_type": "markdown",
   "id": "573d01aa",
   "metadata": {},
   "source": [
    "#### p-value\n",
    "A p-value is a probability value that measures the strength of evidence against the null hypothesis (H0) in a statistical test.\n",
    "\n",
    "if the p-value is less than or equal to alpha, reject the null hypothesis\n",
    "\n",
    "if the p-value is greater than alpha, accept the null hypothesis"
   ]
  },
  {
   "cell_type": "markdown",
   "id": "17c67eb0",
   "metadata": {},
   "source": [
    "### Steps Involved in Solving Hypothesis Testing Problem\n",
    "\n",
    "- State the null hypothesis (H0) and the alternative hypothesis (H1) \n",
    "\n",
    "- Choose the appropriate statistical test\n",
    "Eg of statistical test include t-tests, ANOVA, chi-square regression analysis.\n",
    "\n",
    "- Determine the p-value\n",
    "\n",
    "- Draw conclusions and make recommendations\n"
   ]
  },
  {
   "cell_type": "markdown",
   "id": "e3417536",
   "metadata": {},
   "source": [
    "### Type I Error\n",
    "\n",
    "This error occurs  if one reject the null hypothesis when it is true.\n",
    "\n",
    "### Type II Error\n",
    "\n",
    "This error occurs  if one does not reject the null hypothesis when it is false."
   ]
  },
  {
   "cell_type": "markdown",
   "id": "bb7d7d91",
   "metadata": {},
   "source": [
    "### Research Project\n",
    "- t-test\n",
    "- chi square test\n",
    "- ANOVA"
   ]
  },
  {
   "cell_type": "code",
   "execution_count": null,
   "id": "13637089",
   "metadata": {},
   "outputs": [],
   "source": []
  },
  {
   "cell_type": "code",
   "execution_count": null,
   "id": "010d1978",
   "metadata": {},
   "outputs": [],
   "source": []
  },
  {
   "cell_type": "code",
   "execution_count": null,
   "id": "91eab0a3",
   "metadata": {},
   "outputs": [],
   "source": []
  },
  {
   "cell_type": "code",
   "execution_count": null,
   "id": "504af730",
   "metadata": {},
   "outputs": [],
   "source": []
  },
  {
   "cell_type": "code",
   "execution_count": null,
   "id": "1fa0c998",
   "metadata": {},
   "outputs": [],
   "source": []
  },
  {
   "cell_type": "code",
   "execution_count": null,
   "id": "aa7f2704",
   "metadata": {},
   "outputs": [],
   "source": []
  },
  {
   "cell_type": "code",
   "execution_count": null,
   "id": "1b295189",
   "metadata": {},
   "outputs": [],
   "source": []
  },
  {
   "cell_type": "code",
   "execution_count": null,
   "id": "39b511d5",
   "metadata": {},
   "outputs": [],
   "source": []
  },
  {
   "cell_type": "code",
   "execution_count": 4,
   "id": "e14866e6",
   "metadata": {},
   "outputs": [
    {
     "name": "stdout",
     "output_type": "stream",
     "text": [
      "t-statistic: -1.0\n",
      "p-value: 0.34343639613791355\n",
      "Fail to reject null hypothesis. Mean is equal to 12.\n"
     ]
    }
   ],
   "source": [
    "import scipy.stats as stats\n",
    "\n",
    "# Sample data\n",
    "sample_data = [10, 12, 13, 14, 11, 10, 9, 11, 12, 13]\n",
    "\n",
    "# Null hypothesis: mean = 12\n",
    "# Alternative hypothesis: mean != 12\n",
    "\n",
    "# Calculate the test statistic and p-value\n",
    "t_stat, p_value = stats.ttest_1samp(sample_data, 12)\n",
    "\n",
    "# Print the results\n",
    "print(\"t-statistic:\", t_stat)\n",
    "print(\"p-value:\", p_value)\n",
    "\n",
    "# Interpret the results\n",
    "if p_value < 0.05:\n",
    "    print(\"Reject null hypothesis. Mean is not equal to 12.\")\n",
    "else:\n",
    "    print(\"Fail to reject null hypothesis. Mean is equal to 12.\")\n"
   ]
  },
  {
   "cell_type": "code",
   "execution_count": 5,
   "id": "5b90486e",
   "metadata": {},
   "outputs": [
    {
     "data": {
      "text/plain": [
       "11.5"
      ]
     },
     "execution_count": 5,
     "metadata": {},
     "output_type": "execute_result"
    }
   ],
   "source": [
    "sum(sample_data)/len(sample_data)"
   ]
  },
  {
   "cell_type": "code",
   "execution_count": null,
   "id": "8c17bf0a",
   "metadata": {},
   "outputs": [],
   "source": []
  }
 ],
 "metadata": {
  "kernelspec": {
   "display_name": "Python 3 (ipykernel)",
   "language": "python",
   "name": "python3"
  },
  "language_info": {
   "codemirror_mode": {
    "name": "ipython",
    "version": 3
   },
   "file_extension": ".py",
   "mimetype": "text/x-python",
   "name": "python",
   "nbconvert_exporter": "python",
   "pygments_lexer": "ipython3",
   "version": "3.11.4"
  }
 },
 "nbformat": 4,
 "nbformat_minor": 5
}

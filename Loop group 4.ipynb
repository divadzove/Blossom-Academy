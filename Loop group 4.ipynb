{
 "cells": [
  {
   "cell_type": "markdown",
   "id": "5cc76a2b",
   "metadata": {},
   "source": [
    "# Group 4  \n",
    "- Divine Adzove  \n",
    "- Theophilus Arde-Acquah  \n",
    "- Luki Daniel Bakuoro  \n",
    "- Phoebe Adjei-Frimpong"
   ]
  },
  {
   "cell_type": "markdown",
   "id": "c981861e",
   "metadata": {},
   "source": [
    "# Q1\n",
    "Write a code to display a list of the first 12 multiples of 8 using a for loop\n"
   ]
  },
  {
   "cell_type": "code",
   "execution_count": 2,
   "id": "3801d263",
   "metadata": {},
   "outputs": [
    {
     "name": "stdout",
     "output_type": "stream",
     "text": [
      "8 x 1 = 8\n",
      "8 x 2 = 16\n",
      "8 x 3 = 24\n",
      "8 x 4 = 32\n",
      "8 x 5 = 40\n",
      "8 x 6 = 48\n",
      "8 x 7 = 56\n",
      "8 x 8 = 64\n",
      "8 x 9 = 72\n",
      "8 x 10 = 80\n",
      "8 x 11 = 88\n",
      "8 x 12 = 96\n"
     ]
    }
   ],
   "source": [
    "for i in range (1,13):\n",
    "    multiple = 8*i\n",
    "    print(f\"8 x {i} = {multiple}\")"
   ]
  },
  {
   "cell_type": "markdown",
   "id": "d9f7d0f9",
   "metadata": {},
   "source": [
    "# Q2\n",
    "Write the code to print sum of all even numbers from 1 to 201"
   ]
  },
  {
   "cell_type": "code",
   "execution_count": 4,
   "id": "778e853e",
   "metadata": {},
   "outputs": [
    {
     "name": "stdout",
     "output_type": "stream",
     "text": [
      "10100\n"
     ]
    }
   ],
   "source": [
    "sum_even = 0\n",
    "for i in range(1,201):\n",
    "    if i%2==0:\n",
    "        sum_even +=i\n",
    "print(sum_even)\n",
    "    "
   ]
  },
  {
   "cell_type": "markdown",
   "id": "4f0f12d7",
   "metadata": {},
   "source": [
    "# Q3\n",
    "`my_list = [3, 5, 7, 12, 41]`\n",
    "\n",
    "Write the code to display the list of the squares of each number in my list\n",
    "\n",
    "- Without using list comprehension\n",
    "- Using list comprehension\n"
   ]
  },
  {
   "cell_type": "code",
   "execution_count": 5,
   "id": "523689e0",
   "metadata": {},
   "outputs": [
    {
     "data": {
      "text/plain": [
       "[9, 25, 49, 144, 1681]"
      ]
     },
     "execution_count": 5,
     "metadata": {},
     "output_type": "execute_result"
    }
   ],
   "source": [
    "#without list comprehension\n",
    "my_list = [3, 5, 7, 12, 41]\n",
    "squared_list = []\n",
    "\n",
    "for i in my_list:\n",
    "    square = i**2\n",
    "    squared_list.append(square)\n",
    "squared_list\n"
   ]
  },
  {
   "cell_type": "code",
   "execution_count": 7,
   "id": "60403d72",
   "metadata": {},
   "outputs": [
    {
     "data": {
      "text/plain": [
       "[9, 25, 49, 144, 1681]"
      ]
     },
     "execution_count": 7,
     "metadata": {},
     "output_type": "execute_result"
    }
   ],
   "source": [
    "#with list comprehension\n",
    "my_list = [3, 5, 7, 12, 41]\n",
    "squared_list = [i**2 for i in my_list]\n",
    "squared_list"
   ]
  },
  {
   "cell_type": "markdown",
   "id": "28bed149",
   "metadata": {},
   "source": [
    "# Q4\n",
    "`my_list1 = [3, 53,47, 22, 53, 78, 12, 41]`\n",
    "\n",
    "Calculate the average of my_list1\n",
    "\n",
    "- Without using sum and len fucnctions\n",
    "- Using sum and len functions\n"
   ]
  },
  {
   "cell_type": "code",
   "execution_count": 11,
   "id": "40a24002",
   "metadata": {},
   "outputs": [
    {
     "data": {
      "text/plain": [
       "38.625"
      ]
     },
     "execution_count": 11,
     "metadata": {},
     "output_type": "execute_result"
    }
   ],
   "source": [
    "#Without using sum and len fucnction\n",
    "my_list1 = [3, 53,47, 22, 53, 78, 12, 41]\n",
    "total = 0\n",
    "count = 0\n",
    "for i in my_list1:\n",
    "    total +=i\n",
    "    count +=1\n",
    "    average = total/count\n",
    "average   \n",
    "    "
   ]
  },
  {
   "cell_type": "code",
   "execution_count": 12,
   "id": "27399c0f",
   "metadata": {},
   "outputs": [
    {
     "data": {
      "text/plain": [
       "38.625"
      ]
     },
     "execution_count": 12,
     "metadata": {},
     "output_type": "execute_result"
    }
   ],
   "source": [
    "#using sum and len fucnction\n",
    "my_list1 = [3, 53,47, 22, 53, 78, 12, 41]\n",
    "average = sum(my_list1)/len(my_list1)\n",
    "average"
   ]
  },
  {
   "cell_type": "markdown",
   "id": "38c1ddff",
   "metadata": {},
   "source": [
    "# Q4\n",
    "\n",
    "Write a Python program to guess a number between 1 and 9.\n",
    "User is prompted to enter a guess. If the user guesses wrong then the prompt appears again until the guess is correct, on successful guess, user will get a \"Well guessed!\" message, and the program will exit."
   ]
  },
  {
   "cell_type": "code",
   "execution_count": 25,
   "id": "2bdea6d7",
   "metadata": {},
   "outputs": [
    {
     "name": "stdout",
     "output_type": "stream",
     "text": [
      "Please enter a number between 1 and 9\n",
      "7\n",
      "Well guessed!\n"
     ]
    }
   ],
   "source": [
    "num = int(input(\"Please enter a number between 1 and 9\\n\"))\n",
    "\n",
    "numb = 7\n",
    "\n",
    "if num == numb:\n",
    "    print(\"Well guessed!\")\n",
    "else:\n",
    "    print(\"Press shift+enter to try again\")\n",
    "  "
   ]
  },
  {
   "cell_type": "markdown",
   "id": "f5c02baa",
   "metadata": {},
   "source": [
    "# Q5\n",
    "Write a Python program to construct the following pattern.\n",
    "\n",
    "`*` \n",
    "\n",
    "`* *` \n",
    "\n",
    "`* * *` \n",
    "\n",
    "`* * * *` \n",
    "\n",
    "`* * * * *`"
   ]
  },
  {
   "cell_type": "code",
   "execution_count": 27,
   "id": "0a7f9284",
   "metadata": {},
   "outputs": [
    {
     "name": "stdout",
     "output_type": "stream",
     "text": [
      "* \n",
      "* * \n",
      "* * * \n",
      "* * * * \n",
      "* * * * * \n"
     ]
    }
   ],
   "source": [
    "#creating function pattern_maker\n",
    "\n",
    "def pattern_maker(rows):\n",
    "    for i in range(1, rows+1):\n",
    "        for j in range(i):\n",
    "            print(\"*\", end=\" \")\n",
    "        print()\n",
    "\n",
    "# Number of rows in the pattern\n",
    "num_rows = 5\n",
    "# Call the function to print the pattern\n",
    "pattern_maker(num_rows)\n"
   ]
  },
  {
   "cell_type": "markdown",
   "id": "e85d94df",
   "metadata": {},
   "source": [
    "# Q6\n",
    "\n",
    "Write a Python program that accepts a word from the user and reverses it."
   ]
  },
  {
   "cell_type": "code",
   "execution_count": 31,
   "id": "aeb753b2",
   "metadata": {},
   "outputs": [
    {
     "name": "stdout",
     "output_type": "stream",
     "text": [
      "Please type a word\n",
      "type\n"
     ]
    },
    {
     "data": {
      "text/plain": [
       "'epyt'"
      ]
     },
     "execution_count": 31,
     "metadata": {},
     "output_type": "execute_result"
    }
   ],
   "source": [
    "word = str(input(\"Please type a word\\n\"))\n",
    "reversed_word = ''.join(reversed(word))\n",
    "reversed_word\n"
   ]
  },
  {
   "cell_type": "markdown",
   "id": "5fe06511",
   "metadata": {},
   "source": [
    "# Q7\n",
    "Write a Python program that accepts a word from the user and reverses it."
   ]
  },
  {
   "cell_type": "code",
   "execution_count": 32,
   "id": "4d36e8b7",
   "metadata": {},
   "outputs": [
    {
     "name": "stdout",
     "output_type": "stream",
     "text": [
      "Please type a word\n",
      "run\n"
     ]
    },
    {
     "data": {
      "text/plain": [
       "'nur'"
      ]
     },
     "execution_count": 32,
     "metadata": {},
     "output_type": "execute_result"
    }
   ],
   "source": [
    "word = str(input(\"Please type a word\\n\"))\n",
    "reversed_word = ''.join(reversed(word))\n",
    "reversed_word\n"
   ]
  },
  {
   "cell_type": "markdown",
   "id": "5a99d4b3",
   "metadata": {},
   "source": [
    "# Q8\n",
    "\n",
    "`lst = [3,4,5,4,7,8,5,8,3,6,8,9,11]`\n",
    "\n",
    "Write a Python program to count the number of even and odd numbers in the above list of numbers.\n",
    "\n",
    "**Expected output should be in this format**\n",
    "\n",
    "{\"Even\" : num_of_even, \"Odd\": num_of_odd}"
   ]
  },
  {
   "cell_type": "code",
   "execution_count": 43,
   "id": "2371bc1b",
   "metadata": {},
   "outputs": [
    {
     "name": "stdout",
     "output_type": "stream",
     "text": [
      "{'Even': 6, 'Odd': 7}\n"
     ]
    }
   ],
   "source": [
    "lst = [3,4,5,4,7,8,5,8,3,6,8,9,11]\n",
    "lst_dict = {}\n",
    "\n",
    "even = len([i for i in lst if i%2 == 0])\n",
    "odd = len([i for i in lst if i%2 == 1])\n",
    "lst_dict[\"Even\"]=even\n",
    "lst_dict[\"Odd\"]=odd\n",
    "print (lst_dict)"
   ]
  },
  {
   "cell_type": "markdown",
   "id": "c92b54f9",
   "metadata": {},
   "source": [
    "# Q9\n",
    " Write a Python program that iterates the integers from 1 to 50. For multiples of three print \"Fizz\" instead of the number and for multiples of five print \"Buzz\". For numbers that are multiples of three and five, print \"FizzBuzz\".\n",
    "Sample Output :\n",
    "1\n",
    "\n",
    "2\n",
    "\n",
    "fizz\n",
    "\n",
    "4\n",
    "\n",
    "buzz"
   ]
  },
  {
   "cell_type": "code",
   "execution_count": 46,
   "id": "616383d3",
   "metadata": {},
   "outputs": [
    {
     "name": "stdout",
     "output_type": "stream",
     "text": [
      "1\n",
      "2\n",
      "Fizz\n",
      "4\n",
      "Buzz\n",
      "Fizz\n",
      "7\n",
      "8\n",
      "Fizz\n",
      "Buzz\n",
      "11\n",
      "Fizz\n",
      "13\n",
      "14\n",
      "FizzBuzz\n",
      "16\n",
      "17\n",
      "Fizz\n",
      "19\n",
      "Buzz\n",
      "Fizz\n",
      "22\n",
      "23\n",
      "Fizz\n",
      "Buzz\n",
      "26\n",
      "Fizz\n",
      "28\n",
      "29\n",
      "FizzBuzz\n",
      "31\n",
      "32\n",
      "Fizz\n",
      "34\n",
      "Buzz\n",
      "Fizz\n",
      "37\n",
      "38\n",
      "Fizz\n",
      "Buzz\n",
      "41\n",
      "Fizz\n",
      "43\n",
      "44\n",
      "FizzBuzz\n",
      "46\n",
      "47\n",
      "Fizz\n",
      "49\n",
      "Buzz\n"
     ]
    }
   ],
   "source": [
    "for i in range(1,51):\n",
    "    if i%3 == 0 and i%5 ==0:\n",
    "        print(\"FizzBuzz\")\n",
    "    \n",
    "    elif i%3 == 0:\n",
    "        print(\"Fizz\")\n",
    "    elif i%5 == 0:\n",
    "        print(\"Buzz\")\n",
    "    else:\n",
    "        print(i)\n",
    "    "
   ]
  },
  {
   "cell_type": "markdown",
   "id": "8d3505cf",
   "metadata": {},
   "source": [
    "# Q10\n",
    " Write a Python program to find the median of three values inputs from the user"
   ]
  },
  {
   "cell_type": "code",
   "execution_count": 54,
   "id": "5453e2fc",
   "metadata": {},
   "outputs": [
    {
     "name": "stdout",
     "output_type": "stream",
     "text": [
      "please enter your first number\n",
      "3\n",
      "please enter your second number\n",
      "4\n",
      "please enter your third number\n",
      "5\n",
      "The median of [3, 4, 5] is 4\n"
     ]
    }
   ],
   "source": [
    "import statistics\n",
    "\n",
    "num1 = int(input(\"please enter your first number\\n\"))\n",
    "num2 = int(input(\"please enter your second number\\n\"))\n",
    "num3 = int(input(\"please enter your third number\\n\"))\n",
    "\n",
    "numbers = [num1,num2,num3]\n",
    "\n",
    "median_value = statistics.median(numbers)\n",
    "\n",
    "print(f\"The median of {numbers} is {median_value}\")\n",
    "\n"
   ]
  },
  {
   "cell_type": "markdown",
   "id": "9ef4f8a2",
   "metadata": {},
   "source": [
    "# Q11\n",
    "Write a Python program to calculate the sum and average of n integer numbers (input from the user). Input 0 to finish."
   ]
  },
  {
   "cell_type": "code",
   "execution_count": 55,
   "id": "dd454536",
   "metadata": {},
   "outputs": [
    {
     "name": "stdout",
     "output_type": "stream",
     "text": [
      "Enter an integer (enter 0 to finish): 3\n",
      "Enter an integer (enter 0 to finish): 4\n",
      "Enter an integer (enter 0 to finish): 12\n",
      "Enter an integer (enter 0 to finish): 7\n",
      "Enter an integer (enter 0 to finish): 2\n",
      "Enter an integer (enter 0 to finish): 6\n",
      "Enter an integer (enter 0 to finish): 19\n",
      "Enter an integer (enter 0 to finish): 0\n",
      "Sum: 53\n",
      "Average: 7.571428571428571\n"
     ]
    }
   ],
   "source": [
    "# Initialize variables\n",
    "sum_numbers = 0\n",
    "count = 0\n",
    "\n",
    "# Get input from the user\n",
    "while True:\n",
    "    num = int(input(\"Enter an integer (enter 0 to finish): \"))\n",
    "    \n",
    "    # Check if the user wants to finish\n",
    "    if num == 0:\n",
    "        break\n",
    "    \n",
    "    # Update sum and count\n",
    "    sum_numbers += num\n",
    "    count += 1\n",
    "\n",
    "# Calculate average\n",
    "if count == 0:\n",
    "    print(\"No numbers entered.\")\n",
    "else:\n",
    "    average = sum_numbers / count\n",
    "    print(\"Sum:\", sum_numbers)\n",
    "    print(\"Average:\", average)\n"
   ]
  },
  {
   "cell_type": "markdown",
   "id": "45f5c335",
   "metadata": {},
   "source": [
    "# Q12\n",
    " Write a Python program to create the multiplication table (from 1 to 12) of a number input from a user.\n",
    " \n",
    " Expected Output:\n",
    "\n",
    "Input a number: 6                                                       \n",
    "6 x 1 = 6                                                               \n",
    "6 x 2 = 12                                                              \n",
    "6 x 3 = 18                                                              \n",
    "6 x 4 = 24                                                              \n",
    "6 x 5 = 30                                                              \n",
    "6 x 6 = 36                                                              \n",
    "6 x 7 = 42                                                              \n",
    "6 x 8 = 48                                                              \n",
    "6 x 9 = 54                                                              \n",
    "6 x 10 = 60 \n",
    "\n",
    "6 x 11 = 66\n",
    "\n",
    "6 x 12 = 72"
   ]
  },
  {
   "cell_type": "code",
   "execution_count": 59,
   "id": "3d06c7f4",
   "metadata": {},
   "outputs": [
    {
     "name": "stdout",
     "output_type": "stream",
     "text": [
      "please enter the number for the time table2\n",
      "2 x 1 = 2\n",
      "2 x 2 = 4\n",
      "2 x 3 = 6\n",
      "2 x 4 = 8\n",
      "2 x 5 = 10\n",
      "2 x 6 = 12\n",
      "2 x 7 = 14\n",
      "2 x 8 = 16\n",
      "2 x 9 = 18\n",
      "2 x 10 = 20\n",
      "2 x 11 = 22\n",
      "2 x 12 = 24\n"
     ]
    }
   ],
   "source": [
    "num = int(input(\"please enter the number for the time table\"))\n",
    "for i in range(1,13):\n",
    "        multiple = num*i\n",
    "        print(f\"{num} x {i} = {multiple}\")"
   ]
  },
  {
   "cell_type": "markdown",
   "id": "8cc97048",
   "metadata": {},
   "source": [
    "# Q13\n",
    "Write a Python program to construct the following pattern\n",
    "\n",
    "1\n",
    "\n",
    "22\n",
    "\n",
    "333\n",
    "\n",
    "4444\n",
    "\n",
    "55555\n",
    "\n",
    "666666\n",
    "\n",
    "7777777\n",
    "\n",
    "88888888\n",
    "\n",
    "999999999"
   ]
  },
  {
   "cell_type": "code",
   "execution_count": 66,
   "id": "247e2687",
   "metadata": {},
   "outputs": [
    {
     "name": "stdout",
     "output_type": "stream",
     "text": [
      "1 \n",
      "2 2 \n",
      "3 3 3 \n",
      "4 4 4 4 \n",
      "5 5 5 5 5 \n",
      "6 6 6 6 6 6 \n",
      "7 7 7 7 7 7 7 \n",
      "8 8 8 8 8 8 8 8 \n",
      "9 9 9 9 9 9 9 9 9 \n"
     ]
    }
   ],
   "source": [
    "def pattern_maker(rows):\n",
    "    for i in range(1, rows+1):\n",
    "        for j in range(i):\n",
    "            print((f\"{i}\"), end=\" \")\n",
    "        print()\n",
    "\n",
    "# Number of rows in the pattern\n",
    "num_rows = 9\n",
    "# Call the function to print the pattern\n",
    "pattern_maker(num_rows)"
   ]
  },
  {
   "cell_type": "markdown",
   "id": "adef967a",
   "metadata": {},
   "source": [
    "# Q14\n",
    "Print sum of all odd numbers from 10 to 50"
   ]
  },
  {
   "cell_type": "code",
   "execution_count": 67,
   "id": "cc6f0b9f",
   "metadata": {},
   "outputs": [
    {
     "name": "stdout",
     "output_type": "stream",
     "text": [
      "600\n"
     ]
    }
   ],
   "source": [
    "\n",
    "sum_odd = 0\n",
    "for i in range (10,51):\n",
    "    if i%2 ==1:\n",
    "        sum_odd +=i\n",
    "        \n",
    "print (sum_odd)\n",
    "    "
   ]
  },
  {
   "cell_type": "markdown",
   "id": "1642ec1a",
   "metadata": {},
   "source": [
    "# Q15\n",
    "\n",
    "`my_list = [25, 100, 121, 400, 81]`\n",
    "\n",
    "Write the code to display the list of the square root of each number in my list\n",
    "\n",
    "- Without using list comprehension\n",
    "- Using list comprehension"
   ]
  },
  {
   "cell_type": "code",
   "execution_count": 68,
   "id": "be3f0615",
   "metadata": {},
   "outputs": [
    {
     "data": {
      "text/plain": [
       "[5.0, 10.0, 11.0, 20.0, 9.0]"
      ]
     },
     "execution_count": 68,
     "metadata": {},
     "output_type": "execute_result"
    }
   ],
   "source": [
    "my_list = [25, 100, 121, 400, 81]\n",
    "#without list comprehension\n",
    "root_list = []\n",
    "\n",
    "for i in my_list:\n",
    "    sq_root=i**0.5\n",
    "    root_list.append(sq_root)\n",
    "root_list\n",
    "    "
   ]
  },
  {
   "cell_type": "code",
   "execution_count": 69,
   "id": "629d0082",
   "metadata": {},
   "outputs": [
    {
     "data": {
      "text/plain": [
       "[5.0, 10.0, 11.0, 20.0, 9.0]"
      ]
     },
     "execution_count": 69,
     "metadata": {},
     "output_type": "execute_result"
    }
   ],
   "source": [
    "#with list comprehension\n",
    "my_list = [25, 100, 121, 400, 81]\n",
    "root_list = [i**0.5 for i in my_list]\n",
    "root_list"
   ]
  }
 ],
 "metadata": {
  "kernelspec": {
   "display_name": "Python 3 (ipykernel)",
   "language": "python",
   "name": "python3"
  },
  "language_info": {
   "codemirror_mode": {
    "name": "ipython",
    "version": 3
   },
   "file_extension": ".py",
   "mimetype": "text/x-python",
   "name": "python",
   "nbconvert_exporter": "python",
   "pygments_lexer": "ipython3",
   "version": "3.11.5"
  }
 },
 "nbformat": 4,
 "nbformat_minor": 5
}

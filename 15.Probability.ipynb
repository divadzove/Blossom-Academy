{
 "cells": [
  {
   "cell_type": "markdown",
   "id": "c1fe4153",
   "metadata": {},
   "source": [
    "### Probability\n",
    "\n",
    "Probability is a measure of the chance that a particular event will occur.\n",
    "\n",
    "It is expressed as a number between 0 and 1\n",
    "\n",
    "`Probability of an event = (# of ways it can happen) / (total number of outcomes)`\n",
    "\n",
    "\n"
   ]
  },
  {
   "cell_type": "markdown",
   "id": "174718de",
   "metadata": {},
   "source": [
    "### Sample Space\n",
    "A sample space is the set of all possible outcomes of a random experiment \n",
    "\n",
    "It is denoted by the symbol S\n",
    "\n",
    "Example\n",
    "\n",
    "The sample space for rolling a die can be repesented as\n",
    "\n",
    " S = {1, 2, 3, 4, 5, 6}"
   ]
  },
  {
   "cell_type": "markdown",
   "id": "f9bee8f8",
   "metadata": {},
   "source": [
    "### Event\n",
    "An event is a subset of the sample space. "
   ]
  },
  {
   "cell_type": "markdown",
   "id": "9446aa2b",
   "metadata": {},
   "source": [
    "### Independent events"
   ]
  },
  {
   "cell_type": "markdown",
   "id": "e375ccb9",
   "metadata": {},
   "source": [
    "Two events are independent if the probability of the second event is not affected by the outcone of the first event"
   ]
  },
  {
   "cell_type": "markdown",
   "id": "a2565c5c",
   "metadata": {},
   "source": [
    "### Dependent events\n"
   ]
  },
  {
   "cell_type": "markdown",
   "id": "3b11c967",
   "metadata": {},
   "source": [
    "Two events are dependent if the probability of the second event is affected by the outcome of the first event"
   ]
  },
  {
   "cell_type": "markdown",
   "id": "817c6b5b",
   "metadata": {},
   "source": [
    "### Mutually Exclusive Events\n",
    "\n",
    "Mutually exclusive events are events that cannot occur at the same time.\n",
    "\n",
    "That is, if one event happens, the other event cannot happen.\n",
    "\n",
    "For two mutually exclusive events A and B, the probability of either A or B happening is the sum of the probabilities of A and B. That is:\n",
    "\n",
    "P(A or B) = P(A) + P(B)\n",
    "\n",
    "If A and B are not mutually exclusive, \n",
    "\n",
    "P(A or B) = P(A) + P(B) - P(A and B)\n",
    "\n",
    "where P(A and B) is the probability that both events A and B occur"
   ]
  },
  {
   "cell_type": "markdown",
   "id": "b8311279",
   "metadata": {},
   "source": [
    "### Conditional Probability\n",
    "Conditional probability is the probability of an event occurring, given that another event has occurred. It is denoted as P(A|B), which is read as \"the probability of A given B\". It represents the probability of event A occurring, when we know that event B has already occurred.\n",
    "\n",
    "The formula for conditional probability is given by:\n",
    "\n",
    "P(A|B) = P(A and B) / P(B)\n",
    "\n",
    "where P(A and B) is the probability of both A and B occurring, and P(B) is the probability of B occurring."
   ]
  },
  {
   "cell_type": "markdown",
   "id": "09bc5160",
   "metadata": {},
   "source": [
    "### Bayes Theorem\n",
    "Bayes' theorem is a fundamental concept in probability theory, named after the English statistician Thomas Bayes. It allows us to calculate the conditional probability of an event A, given some prior knowledge or evidence B. The formula for Bayes' theorem is:\n",
    "\n",
    "P(A|B) = P(B|A) * P(A) / P(B)\n",
    "\n",
    "where P(A|B) is the probability of A given B, P(B|A) is the probability of B given A, P(A) is the prior probability of A, and P(B) is the prior probability of B."
   ]
  },
  {
   "cell_type": "code",
   "execution_count": null,
   "id": "b461656d",
   "metadata": {},
   "outputs": [],
   "source": []
  }
 ],
 "metadata": {
  "kernelspec": {
   "display_name": "Python 3 (ipykernel)",
   "language": "python",
   "name": "python3"
  },
  "language_info": {
   "codemirror_mode": {
    "name": "ipython",
    "version": 3
   },
   "file_extension": ".py",
   "mimetype": "text/x-python",
   "name": "python",
   "nbconvert_exporter": "python",
   "pygments_lexer": "ipython3",
   "version": "3.11.4"
  }
 },
 "nbformat": 4,
 "nbformat_minor": 5
}

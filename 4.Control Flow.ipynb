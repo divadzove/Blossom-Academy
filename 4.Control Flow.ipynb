{
 "cells": [
  {
   "cell_type": "markdown",
   "id": "851afba0",
   "metadata": {},
   "source": [
    "**Control Flow**\n",
    "\n",
    "The control flow refers to how a program codes is executed.\n",
    "\n",
    "Example of Control flow:\n",
    "\n",
    "- if-else statement\n",
    "- for loops\n",
    "- while loops\n",
    "- break and continue statement\n",
    "- try and except statement\n"
   ]
  },
  {
   "cell_type": "markdown",
   "id": "b3b6eac5",
   "metadata": {},
   "source": [
    "### If-else statement"
   ]
  },
  {
   "cell_type": "markdown",
   "id": "78a2ada6",
   "metadata": {},
   "source": [
    "The if statement runs a block of codes if a condition is true and the else statement runs if the condition is false. "
   ]
  },
  {
   "cell_type": "markdown",
   "id": "c1926b41",
   "metadata": {},
   "source": [
    "if condition:\n",
    "    # code to be executed if condition is true\n",
    "else:\n",
    "    # code to be executed if condition is false"
   ]
  },
  {
   "cell_type": "code",
   "execution_count": 1,
   "id": "a0ed32b1",
   "metadata": {
    "scrolled": true
   },
   "outputs": [
    {
     "name": "stdout",
     "output_type": "stream",
     "text": [
      "Give Eddy kube toffee\n"
     ]
    }
   ],
   "source": [
    "if 5==5:\n",
    "    print(\"Give Eddy kube toffee\")"
   ]
  },
  {
   "cell_type": "code",
   "execution_count": 1,
   "id": "9a2481a0",
   "metadata": {},
   "outputs": [
    {
     "name": "stdout",
     "output_type": "stream",
     "text": [
      "Happy Birthday Ernestina\n"
     ]
    }
   ],
   "source": [
    "today = \"Ernestina\"\n",
    "if today == \"Ernestina\":\n",
    "    print(\"Happy Birthday Ernestina\")"
   ]
  },
  {
   "cell_type": "code",
   "execution_count": 2,
   "id": "185865ea",
   "metadata": {},
   "outputs": [],
   "source": [
    "if 5==6:\n",
    "    print(\"Equal\")"
   ]
  },
  {
   "cell_type": "code",
   "execution_count": 3,
   "id": "90915ba4",
   "metadata": {
    "scrolled": true
   },
   "outputs": [
    {
     "name": "stdout",
     "output_type": "stream",
     "text": [
      "it is not equal\n"
     ]
    }
   ],
   "source": [
    "if 5==6:\n",
    "    print(\"Equal\")\n",
    "else:\n",
    "    print(\"it is not equal\")\n"
   ]
  },
  {
   "cell_type": "code",
   "execution_count": 4,
   "id": "e4c2d5f2",
   "metadata": {},
   "outputs": [
    {
     "name": "stdout",
     "output_type": "stream",
     "text": [
      "Good midnight\n"
     ]
    }
   ],
   "source": [
    "day = \"midnight\"\n",
    "\n",
    "if day == \"Morning\":\n",
    "    print(\"Good Morning\")\n",
    "elif day == \"Afternoon\":\n",
    "    print(\"Good Afternoon\")\n",
    "elif day == \"midnight\":\n",
    "    print(\"Good midnight\")\n",
    "else:\n",
    "    print(\"Good Evening\")"
   ]
  },
  {
   "cell_type": "code",
   "execution_count": null,
   "id": "e03c8617",
   "metadata": {},
   "outputs": [],
   "source": [
    "input(\"What is your name\")"
   ]
  },
  {
   "cell_type": "code",
   "execution_count": 3,
   "id": "e006af92",
   "metadata": {},
   "outputs": [
    {
     "ename": "SyntaxError",
     "evalue": "unterminated string literal (detected at line 2) (831610015.py, line 2)",
     "output_type": "error",
     "traceback": [
      "\u001b[1;36m  Cell \u001b[1;32mIn[3], line 2\u001b[1;36m\u001b[0m\n\u001b[1;33m    print(f\"{h} is hundred)\u001b[0m\n\u001b[1;37m          ^\u001b[0m\n\u001b[1;31mSyntaxError\u001b[0m\u001b[1;31m:\u001b[0m unterminated string literal (detected at line 2)\n"
     ]
    }
   ],
   "source": [
    "h = 100\n",
    "print(f\"{h} is hundred)"
   ]
  },
  {
   "cell_type": "code",
   "execution_count": 5,
   "id": "7c16d355",
   "metadata": {},
   "outputs": [
    {
     "name": "stdout",
     "output_type": "stream",
     "text": [
      "Enter a number\n",
      "45\n",
      "Number is greater than 30\n"
     ]
    }
   ],
   "source": [
    "number = int(input(\"Enter a number\\n\"))\n",
    "\n",
    "if number <= 10:\n",
    "    print(\"Number is less than equal to 10\")\n",
    "    \n",
    "elif number >10 and number <= 20:\n",
    "    print(\"Number is greater than 10 but less than or equal to 20\")\n",
    "    \n",
    "elif number >20 and number <= 30:\n",
    "    print(\"Number is greater than 20 but less than or equal to  30\")\n",
    "    \n",
    "else:\n",
    "    print(\"Number is greater than 30\")"
   ]
  },
  {
   "cell_type": "markdown",
   "id": "ee80c757",
   "metadata": {},
   "source": [
    "### Nested Condition"
   ]
  },
  {
   "cell_type": "code",
   "execution_count": null,
   "id": "2e1111fc",
   "metadata": {},
   "outputs": [],
   "source": [
    "age = int(input(\"Enter a age\\n\"))\n",
    "\n",
    "if number % 2 == 0:\n",
    "    # The number is even\n",
    "    if age > 5:\n",
    "        print(\"The number is even and greater than 5.\")\n",
    "    else:\n",
    "        print(\"The number is even and not greater than 5.\")\n"
   ]
  },
  {
   "cell_type": "code",
   "execution_count": null,
   "id": "2faaa162",
   "metadata": {},
   "outputs": [],
   "source": [
    "num = int(input(\"Enter a number\\n\"))\n",
    "\n",
    "if num > 10:\n",
    "    print(f\"{num} is greater than  10\")\n",
    "elif num == 10:\n",
    "    print(f\"{num} is equal 10\")\n",
    "else:\n",
    "    print(f\"{num} is less than 10\")\n",
    "    if num%3 ==0:\n",
    "        print(f\"{num} is a multiple of 3\")\n",
    "    else:\n",
    "        print(f\"{num} is not a multiple of 3\")"
   ]
  },
  {
   "cell_type": "code",
   "execution_count": null,
   "id": "9ebde3c9",
   "metadata": {},
   "outputs": [],
   "source": []
  },
  {
   "cell_type": "markdown",
   "id": "2a0eaa59",
   "metadata": {},
   "source": [
    "### for loop"
   ]
  },
  {
   "cell_type": "markdown",
   "id": "bcd620d4",
   "metadata": {},
   "source": [
    "A for loop is used to iterate over a sequence(eg list,string, tuple) and execute a block of code for each item in the sequence."
   ]
  },
  {
   "cell_type": "raw",
   "id": "4f1aec5e",
   "metadata": {},
   "source": [
    "for item in sequence:\n",
    "    #code to execute"
   ]
  },
  {
   "cell_type": "code",
   "execution_count": 2,
   "id": "393cd53c",
   "metadata": {
    "scrolled": true
   },
   "outputs": [
    {
     "name": "stdout",
     "output_type": "stream",
     "text": [
      "A\n",
      "d\n",
      "J\n",
      "o\n",
      "a\n"
     ]
    }
   ],
   "source": [
    "name = \"AdJoa\"\n",
    "\n",
    "for eddy in name:\n",
    "    print(eddy)"
   ]
  },
  {
   "cell_type": "code",
   "execution_count": 8,
   "id": "fb41c06e",
   "metadata": {},
   "outputs": [
    {
     "name": "stdout",
     "output_type": "stream",
     "text": [
      "2 is less than 4\n",
      "5\n",
      "4 is less than 4\n",
      "7\n",
      "8\n",
      "9\n",
      "0 is less than 4\n"
     ]
    }
   ],
   "source": [
    "num = [2,5,4,7,8,9,0]\n",
    "\n",
    "for i in num:\n",
    "    if i > 4 :\n",
    "        print(i)\n",
    "    else:\n",
    "        print(f\"{i} is less than 4\")\n"
   ]
  },
  {
   "cell_type": "code",
   "execution_count": null,
   "id": "64474c0f",
   "metadata": {},
   "outputs": [],
   "source": [
    "name_char = []\n",
    "\n",
    "name = \"Selasi\"\n",
    "\n",
    "for letter in name:\n",
    "    name_char.append(letter)\n",
    "    "
   ]
  },
  {
   "cell_type": "code",
   "execution_count": 9,
   "id": "7f19898d",
   "metadata": {
    "scrolled": true
   },
   "outputs": [
    {
     "data": {
      "text/plain": [
       "['S', 'e', 'l', 'a', 's', 'i']"
      ]
     },
     "execution_count": 9,
     "metadata": {},
     "output_type": "execute_result"
    }
   ],
   "source": [
    "name_char"
   ]
  },
  {
   "cell_type": "code",
   "execution_count": 11,
   "id": "389ca951",
   "metadata": {},
   "outputs": [
    {
     "name": "stdout",
     "output_type": "stream",
     "text": [
      "3 is less than 10\n",
      "12\n",
      "23\n",
      "4 is less than 10\n",
      "5 is less than 10\n",
      "7 is less than 10\n",
      "11\n",
      "9 is less than 10\n"
     ]
    }
   ],
   "source": [
    "list_numbers = [3,12,23,4,5,7,11,9]\n",
    "\n",
    "for number in list_numbers:\n",
    "    \n",
    "    if number >10:\n",
    "        print(number)\n",
    "        \n",
    "    else:\n",
    "        print(f\"{number} is less than 10\")"
   ]
  },
  {
   "cell_type": "code",
   "execution_count": 11,
   "id": "22a57381",
   "metadata": {},
   "outputs": [
    {
     "name": "stdout",
     "output_type": "stream",
     "text": [
      "12\n",
      "23\n",
      "11\n"
     ]
    }
   ],
   "source": [
    "list_numbers = [3,12,23,4,5,7,11,9]\n",
    "\n",
    "for number in list_numbers:\n",
    "    if number >10:\n",
    "        print(number)\n",
    "        \n",
    "  "
   ]
  },
  {
   "cell_type": "code",
   "execution_count": 12,
   "id": "bde379ed",
   "metadata": {},
   "outputs": [
    {
     "data": {
      "text/plain": [
       "[3, 12, 9]"
      ]
     },
     "execution_count": 12,
     "metadata": {},
     "output_type": "execute_result"
    }
   ],
   "source": [
    "list_numbers = [3,12,23,4,5,7,11,9]\n",
    "new_list = []\n",
    "for x in list_numbers:\n",
    "    if x%3==0:\n",
    "        new_list.append(x)\n",
    "    \n",
    "new_list"
   ]
  },
  {
   "cell_type": "code",
   "execution_count": 13,
   "id": "46e40785",
   "metadata": {},
   "outputs": [
    {
     "data": {
      "text/plain": [
       "[12, 23, 11]"
      ]
     },
     "execution_count": 13,
     "metadata": {},
     "output_type": "execute_result"
    }
   ],
   "source": [
    "list_numbers = [3,12,23,4,5,7,11,9]\n",
    "\n",
    "num_gt_ten = []\n",
    "\n",
    "for number in list_numbers:\n",
    "    if number >10:\n",
    "        num_gt_ten.append(number)\n",
    "        \n",
    "num_gt_ten       "
   ]
  },
  {
   "cell_type": "markdown",
   "id": "8a61846d",
   "metadata": {},
   "source": [
    "**range()** is a function that generate a sequence of numbers starting from 0(by default), increasing by 1 (by default) and stops before a specified number.\n",
    "\n",
    "- **range(stop)**\n",
    "\n",
    "- **range(start, stop)**\n",
    "\n",
    "- **range(start, stop, step)**\n",
    "\n",
    "\n",
    "- start - starting point\n",
    "- stop - ending point(exclusive)\n",
    "- step - interval"
   ]
  },
  {
   "cell_type": "code",
   "execution_count": null,
   "id": "e438ac3c",
   "metadata": {},
   "outputs": [],
   "source": [
    "range(6)"
   ]
  },
  {
   "cell_type": "code",
   "execution_count": 15,
   "id": "5758f64d",
   "metadata": {},
   "outputs": [
    {
     "name": "stdout",
     "output_type": "stream",
     "text": [
      "0\n",
      "1\n",
      "2\n",
      "3\n",
      "4\n"
     ]
    }
   ],
   "source": [
    "# Generate numbers from 0 to 5\n",
    "for i in range(5):\n",
    "    print(i)\n"
   ]
  },
  {
   "cell_type": "code",
   "execution_count": 16,
   "id": "f5d3034a",
   "metadata": {},
   "outputs": [
    {
     "data": {
      "text/plain": [
       "[0, 1, 2, 3, 4, 5]"
      ]
     },
     "execution_count": 16,
     "metadata": {},
     "output_type": "execute_result"
    }
   ],
   "source": [
    "numbers = []\n",
    "for num in range(6):\n",
    "    numbers.append(num)\n",
    "    \n",
    "numbers"
   ]
  },
  {
   "cell_type": "code",
   "execution_count": 17,
   "id": "ed4b3349",
   "metadata": {},
   "outputs": [
    {
     "name": "stdout",
     "output_type": "stream",
     "text": [
      "10\n",
      "11\n",
      "12\n",
      "13\n",
      "14\n",
      "15\n",
      "16\n",
      "17\n",
      "18\n",
      "19\n",
      "20\n"
     ]
    }
   ],
   "source": [
    "# Generate numbers from 10 to 20\n",
    "for i in range(10,21):\n",
    "    print(i)"
   ]
  },
  {
   "cell_type": "code",
   "execution_count": 18,
   "id": "4f5bcbd8",
   "metadata": {},
   "outputs": [
    {
     "data": {
      "text/plain": [
       "[10, 11, 12, 13, 14, 15, 16, 17, 18, 19, 20]"
      ]
     },
     "execution_count": 18,
     "metadata": {},
     "output_type": "execute_result"
    }
   ],
   "source": [
    "# Generate numbers from 10 to 20\n",
    "lst = []\n",
    "for i in range(10,21):\n",
    "    lst.append(i)\n",
    "lst"
   ]
  },
  {
   "cell_type": "code",
   "execution_count": 19,
   "id": "e30792b8",
   "metadata": {},
   "outputs": [
    {
     "name": "stdout",
     "output_type": "stream",
     "text": [
      "10\n",
      "12\n",
      "14\n",
      "16\n",
      "18\n",
      "20\n"
     ]
    }
   ],
   "source": [
    "# Generate even numbers from 10 to 20\n",
    "for i in range(10,21,2):\n",
    "    print(i)"
   ]
  },
  {
   "cell_type": "code",
   "execution_count": 20,
   "id": "4dca1519",
   "metadata": {},
   "outputs": [
    {
     "name": "stdout",
     "output_type": "stream",
     "text": [
      "10\n",
      "15\n",
      "20\n"
     ]
    }
   ],
   "source": [
    "for j in range(10,21,5):\n",
    "    print(j)"
   ]
  },
  {
   "cell_type": "code",
   "execution_count": 22,
   "id": "397a6f52",
   "metadata": {},
   "outputs": [],
   "source": [
    "# Iterating over the items in a dictionary using for loop\n",
    "\n",
    "scores = {\"Kofi\":[33,45,39,68,90], \"Ama\":[59,70,80,68,88], \"Akua\":[44,98,60,52,70]}"
   ]
  },
  {
   "cell_type": "code",
   "execution_count": 23,
   "id": "65c13e94",
   "metadata": {},
   "outputs": [
    {
     "data": {
      "text/plain": [
       "dict_items([('Kofi', [33, 45, 39, 68, 90]), ('Ama', [59, 70, 80, 68, 88]), ('Akua', [44, 98, 60, 52, 70])])"
      ]
     },
     "execution_count": 23,
     "metadata": {},
     "output_type": "execute_result"
    }
   ],
   "source": [
    "scores.items()"
   ]
  },
  {
   "cell_type": "code",
   "execution_count": 29,
   "id": "50280143",
   "metadata": {
    "scrolled": true
   },
   "outputs": [
    {
     "data": {
      "text/plain": [
       "dict_values([[33, 45, 39, 68, 90], [59, 70, 80, 68, 88], [44, 98, 60, 52, 70]])"
      ]
     },
     "execution_count": 29,
     "metadata": {},
     "output_type": "execute_result"
    }
   ],
   "source": [
    "scores.values()"
   ]
  },
  {
   "cell_type": "code",
   "execution_count": 30,
   "id": "561a559c",
   "metadata": {},
   "outputs": [
    {
     "data": {
      "text/plain": [
       "dict_keys(['Kofi', 'Ama', 'Akua'])"
      ]
     },
     "execution_count": 30,
     "metadata": {},
     "output_type": "execute_result"
    }
   ],
   "source": [
    "scores.keys()"
   ]
  },
  {
   "cell_type": "code",
   "execution_count": 31,
   "id": "904935fe",
   "metadata": {},
   "outputs": [
    {
     "name": "stdout",
     "output_type": "stream",
     "text": [
      "Kofi => [33, 45, 39, 68, 90]\n",
      "Ama => [59, 70, 80, 68, 88]\n",
      "Akua => [44, 98, 60, 52, 70]\n"
     ]
    }
   ],
   "source": [
    "for key,value in scores.items():\n",
    "#     print(key, \"=>\",value)\n",
    "     print(f\"{key} => {value}\")"
   ]
  },
  {
   "cell_type": "code",
   "execution_count": 32,
   "id": "e6144b09",
   "metadata": {},
   "outputs": [
    {
     "name": "stdout",
     "output_type": "stream",
     "text": [
      "Kofi => 275\n",
      "Ama => 365\n",
      "Akua => 324\n"
     ]
    }
   ],
   "source": [
    "for key,value in scores.items():\n",
    "    print(f\"{key} => {sum(value)}\")"
   ]
  },
  {
   "cell_type": "code",
   "execution_count": 33,
   "id": "411bbcf1",
   "metadata": {},
   "outputs": [
    {
     "name": "stdout",
     "output_type": "stream",
     "text": [
      "Kofi => 90\n",
      "Ama => 88\n",
      "Akua => 98\n"
     ]
    }
   ],
   "source": [
    "for key,value in scores.items():\n",
    "    print(f\"{key} => {max(value)}\")"
   ]
  },
  {
   "cell_type": "code",
   "execution_count": 34,
   "id": "5805be00",
   "metadata": {},
   "outputs": [
    {
     "data": {
      "text/plain": [
       "[('Kofi', 33), ('Ama', 59), ('Akua', 44)]"
      ]
     },
     "execution_count": 34,
     "metadata": {},
     "output_type": "execute_result"
    }
   ],
   "source": [
    "min_scores = []\n",
    "for key,value in scores.items():\n",
    "    min_scores.append((key,min(value)))\n",
    "min_scores"
   ]
  },
  {
   "cell_type": "markdown",
   "id": "7b073dd1",
   "metadata": {},
   "source": [
    "### List Comprehension"
   ]
  },
  {
   "cell_type": "code",
   "execution_count": 35,
   "id": "52d9dcf2",
   "metadata": {},
   "outputs": [
    {
     "data": {
      "text/plain": [
       "[1, 4, 9, 16, 25]"
      ]
     },
     "execution_count": 35,
     "metadata": {},
     "output_type": "execute_result"
    }
   ],
   "source": [
    "# Normal For loop\n",
    "squares = []\n",
    "for i in range(1,6):\n",
    "    squares.append(i**2)\n",
    "squares"
   ]
  },
  {
   "cell_type": "code",
   "execution_count": 14,
   "id": "bb13a12b",
   "metadata": {},
   "outputs": [
    {
     "data": {
      "text/plain": [
       "[1, 4, 9, 16, 25]"
      ]
     },
     "execution_count": 14,
     "metadata": {},
     "output_type": "execute_result"
    }
   ],
   "source": [
    "squares = [i**2 for i in range(1,6)]\n",
    "squares"
   ]
  },
  {
   "cell_type": "code",
   "execution_count": 15,
   "id": "62d61ded",
   "metadata": {},
   "outputs": [
    {
     "data": {
      "text/plain": [
       "[20, 22, 24, 26, 28, 30, 32, 34, 36, 38, 40]"
      ]
     },
     "execution_count": 15,
     "metadata": {},
     "output_type": "execute_result"
    }
   ],
   "source": [
    "mult_two = [num*2 for num in range(10,21)]\n",
    "mult_two"
   ]
  },
  {
   "cell_type": "code",
   "execution_count": 16,
   "id": "575fb531",
   "metadata": {},
   "outputs": [
    {
     "data": {
      "text/plain": [
       "[1, 8, 27, 64, 125]"
      ]
     },
     "execution_count": 16,
     "metadata": {},
     "output_type": "execute_result"
    }
   ],
   "source": [
    "cubes  = [num**3 for num in range(1,6)]\n",
    "cubes"
   ]
  },
  {
   "cell_type": "code",
   "execution_count": 39,
   "id": "0d9d2e60",
   "metadata": {},
   "outputs": [
    {
     "data": {
      "text/plain": [
       "[1, 4, 9, 16, 25]"
      ]
     },
     "execution_count": 39,
     "metadata": {},
     "output_type": "execute_result"
    }
   ],
   "source": [
    "squares = [num**2 for num in range(1,6)]\n",
    "squares"
   ]
  },
  {
   "cell_type": "code",
   "execution_count": 18,
   "id": "958787e2",
   "metadata": {},
   "outputs": [],
   "source": [
    "even = []\n",
    "for num in range(1, 11):\n",
    "    if num%2 == 0:\n",
    "        even.append(num)"
   ]
  },
  {
   "cell_type": "code",
   "execution_count": 19,
   "id": "ce96cbb7",
   "metadata": {},
   "outputs": [
    {
     "data": {
      "text/plain": [
       "[2, 4, 6, 8, 10]"
      ]
     },
     "execution_count": 19,
     "metadata": {},
     "output_type": "execute_result"
    }
   ],
   "source": [
    "even"
   ]
  },
  {
   "cell_type": "code",
   "execution_count": 20,
   "id": "29914c0e",
   "metadata": {},
   "outputs": [
    {
     "data": {
      "text/plain": [
       "[2, 4, 6, 8, 10]"
      ]
     },
     "execution_count": 20,
     "metadata": {},
     "output_type": "execute_result"
    }
   ],
   "source": [
    "#Generate a list of even numbers between 1 and 10\n",
    "evens = [num for num in range(1, 11) if num % 2 == 0]\n",
    "evens"
   ]
  },
  {
   "cell_type": "code",
   "execution_count": 44,
   "id": "c1701646",
   "metadata": {},
   "outputs": [
    {
     "data": {
      "text/plain": [
       "['B', 'L', 'O', 'S', 'S', 'O', 'M', 'A', 'C', 'A', 'D', 'E', 'M', 'Y']"
      ]
     },
     "execution_count": 44,
     "metadata": {},
     "output_type": "execute_result"
    }
   ],
   "source": [
    "string = \"Blossom1 Academy\"\n",
    "chr = []\n",
    "for i in string:\n",
    "    if i.isalpha():\n",
    "        chr.append(i.upper())\n",
    "chr"
   ]
  },
  {
   "cell_type": "code",
   "execution_count": null,
   "id": "3116f006",
   "metadata": {},
   "outputs": [],
   "source": [
    "string = \"Blossom1 Academy\"\n",
    "uppercase_chars = [char.upper() for char in string if char.isalpha()]\n",
    "print(uppercase_chars)"
   ]
  },
  {
   "cell_type": "code",
   "execution_count": 45,
   "id": "2645eb7a",
   "metadata": {},
   "outputs": [
    {
     "name": "stdout",
     "output_type": "stream",
     "text": [
      "['B', 'L', 'O', 'S', 'S', 'O', 'M', 'A', 'C', 'A', 'D', 'E', 'M', 'Y']\n"
     ]
    }
   ],
   "source": [
    "# a list of uppercase characters from a given string\n",
    "string = \"Blossom1 Academy\"\n",
    "uppercase_chars = [char.upper() for char in string if char.isalpha()]\n",
    "print(uppercase_chars)"
   ]
  },
  {
   "cell_type": "code",
   "execution_count": 21,
   "id": "04139f41",
   "metadata": {},
   "outputs": [
    {
     "name": "stdout",
     "output_type": "stream",
     "text": [
      "[2, 2, 6, 4, 10]\n"
     ]
    }
   ],
   "source": [
    "numbers = [1, 2, 3, 4, 5]\n",
    "new_numbers = [num if num % 2 == 0 else num * 2 for num in numbers]\n",
    "print(new_numbers)"
   ]
  },
  {
   "cell_type": "code",
   "execution_count": 22,
   "id": "2d1e8c87",
   "metadata": {},
   "outputs": [
    {
     "data": {
      "text/plain": [
       "[2, 2, 6, 4, 10]"
      ]
     },
     "execution_count": 22,
     "metadata": {},
     "output_type": "execute_result"
    }
   ],
   "source": [
    "numbers = [1, 2, 3, 4, 5]\n",
    "final_numbers = []\n",
    "for num in numbers:\n",
    "    if num%2==0:\n",
    "        final_numbers.append(num)\n",
    "    else:\n",
    "        final_numbers.append(num*2)\n",
    "final_numbers       "
   ]
  },
  {
   "cell_type": "markdown",
   "id": "362cd6a8",
   "metadata": {},
   "source": [
    "### While loop"
   ]
  },
  {
   "cell_type": "markdown",
   "id": "66b15f2e",
   "metadata": {},
   "source": [
    "A while loop is used to repeatedly execute a block of code as long as a given condition is True, the code run repeatedly until a condition False is met"
   ]
  },
  {
   "cell_type": "raw",
   "id": "7e67e390",
   "metadata": {},
   "source": [
    "while condition:\n",
    "    # code to execute"
   ]
  },
  {
   "cell_type": "markdown",
   "id": "c807d7dd",
   "metadata": {},
   "source": [
    "### Infinite loop"
   ]
  },
  {
   "cell_type": "markdown",
   "id": "d3ef3047",
   "metadata": {},
   "source": [
    "This is a loop whose exit condition is never met, the code continues to run indefinitely."
   ]
  },
  {
   "cell_type": "raw",
   "id": "a088d4e2",
   "metadata": {},
   "source": [
    "while True:\n",
    "    print(\"Infinite loop\")\n"
   ]
  },
  {
   "cell_type": "code",
   "execution_count": 1,
   "id": "f8265c83",
   "metadata": {},
   "outputs": [
    {
     "name": "stdout",
     "output_type": "stream",
     "text": [
      "10\n",
      "9\n",
      "8\n",
      "7\n",
      "6\n",
      "5\n",
      "4\n",
      "3\n",
      "2\n",
      "1\n"
     ]
    }
   ],
   "source": [
    "#Display number from 10 to 1 using a while loop\n",
    "number =10\n",
    "\n",
    "while number>0:\n",
    "    print(number)\n",
    "    number -=1\n",
    "    "
   ]
  },
  {
   "cell_type": "code",
   "execution_count": 23,
   "id": "a1b747e9",
   "metadata": {},
   "outputs": [],
   "source": [
    "#Display list of number from 10 to 1 using a while loop\n",
    "\n",
    "number =10\n",
    "list_numbers = []\n",
    "while number>0:\n",
    "    list_numbers.append(number)\n",
    "    number-=1"
   ]
  },
  {
   "cell_type": "code",
   "execution_count": 24,
   "id": "380baff3",
   "metadata": {},
   "outputs": [
    {
     "data": {
      "text/plain": [
       "[10, 9, 8, 7, 6, 5, 4, 3, 2, 1]"
      ]
     },
     "execution_count": 24,
     "metadata": {},
     "output_type": "execute_result"
    }
   ],
   "source": [
    "list_numbers"
   ]
  },
  {
   "cell_type": "code",
   "execution_count": 4,
   "id": "70ae6b38",
   "metadata": {},
   "outputs": [
    {
     "name": "stdout",
     "output_type": "stream",
     "text": [
      "10\n",
      "12\n",
      "14\n",
      "16\n",
      "18\n",
      "20\n",
      "22\n",
      "24\n",
      "26\n",
      "28\n",
      "30\n",
      "32\n",
      "34\n",
      "36\n",
      "38\n",
      "40\n",
      "42\n",
      "44\n",
      "46\n",
      "48\n",
      "50\n"
     ]
    }
   ],
   "source": [
    "num = 10\n",
    "while num <51:\n",
    "    print(num)\n",
    "    num+=2\n",
    "    "
   ]
  },
  {
   "cell_type": "markdown",
   "id": "56364ad7",
   "metadata": {},
   "source": [
    "**break**\n",
    "\n",
    "This statement is used to terminate a loop prematurely and skip to the next part of the code."
   ]
  },
  {
   "cell_type": "code",
   "execution_count": 5,
   "id": "b74db9a5",
   "metadata": {},
   "outputs": [
    {
     "name": "stdout",
     "output_type": "stream",
     "text": [
      "0\n",
      "1\n",
      "2\n",
      "3\n",
      "4\n"
     ]
    }
   ],
   "source": [
    "for i in range(10):\n",
    "    if i == 5:\n",
    "        break\n",
    "    print(i)"
   ]
  },
  {
   "cell_type": "code",
   "execution_count": 6,
   "id": "2b08781d",
   "metadata": {},
   "outputs": [
    {
     "name": "stdout",
     "output_type": "stream",
     "text": [
      "Infinite loop\n"
     ]
    }
   ],
   "source": [
    "while True:\n",
    "    print(\"Infinite loop\")\n",
    "    break\n"
   ]
  },
  {
   "cell_type": "code",
   "execution_count": 25,
   "id": "d1d7a485",
   "metadata": {},
   "outputs": [],
   "source": [
    "nums = [2,3,4,5,1,4,5,5]\n",
    "total =0\n",
    "for i in range(len(nums)):    \n",
    "    while total<10:\n",
    "        total = total + nums[i]\n",
    "        break\n",
    "    \n",
    "        \n"
   ]
  },
  {
   "cell_type": "code",
   "execution_count": 26,
   "id": "d34e4b4b",
   "metadata": {},
   "outputs": [
    {
     "data": {
      "text/plain": [
       "14"
      ]
     },
     "execution_count": 26,
     "metadata": {},
     "output_type": "execute_result"
    }
   ],
   "source": [
    "total"
   ]
  },
  {
   "cell_type": "markdown",
   "id": "aaa72197",
   "metadata": {},
   "source": [
    "**continue**\n",
    "\n",
    "The continue keyword is used skip the current iteration of the loop and continues to the next iteration"
   ]
  },
  {
   "cell_type": "code",
   "execution_count": 9,
   "id": "2fda29fc",
   "metadata": {},
   "outputs": [
    {
     "name": "stdout",
     "output_type": "stream",
     "text": [
      "1\n",
      "2\n",
      "3\n",
      "4\n",
      "6\n",
      "7\n",
      "8\n",
      "9\n",
      "10\n"
     ]
    }
   ],
   "source": [
    "for i in range(1,11):\n",
    "    if i==5:\n",
    "        continue\n",
    "    print(i)"
   ]
  },
  {
   "cell_type": "code",
   "execution_count": 10,
   "id": "9aed9929",
   "metadata": {},
   "outputs": [
    {
     "name": "stdout",
     "output_type": "stream",
     "text": [
      "Akua\n",
      "Akos\n",
      "Adjoa\n",
      "Abena\n"
     ]
    }
   ],
   "source": [
    "names = [\"Akua\",\"Akos\",\"Adjoa\",\"Akosua\",\"Abena\"]\n",
    "\n",
    "for name in names:\n",
    "    if name==\"Akosua\":\n",
    "        continue\n",
    "    print(name)"
   ]
  },
  {
   "cell_type": "markdown",
   "id": "69015ee2",
   "metadata": {},
   "source": [
    "### Exception"
   ]
  },
  {
   "cell_type": "markdown",
   "id": "617a7552",
   "metadata": {},
   "source": [
    "An exception is a type of error that occurs when the interpreter encounters a problem while executing a program. When an exception occurs, the interpreter stops execution of the program and raises an error message.\n",
    "\n",
    "Examples of built-in exceptions classes include `ValueError`, `TypeError`, `IndexError`, `NameError` etc\n",
    "\n",
    "Exceptions are created using the try and except block of code."
   ]
  },
  {
   "cell_type": "code",
   "execution_count": 29,
   "id": "7ed7ce2c",
   "metadata": {},
   "outputs": [
    {
     "name": "stdout",
     "output_type": "stream",
     "text": [
      "Please enter a number:\n",
      "0\n",
      "You cannot divide by zero\n"
     ]
    }
   ],
   "source": [
    "x = int(input(\"Please enter a number:\\n\"))  \n",
    "y= 10\n",
    "\n",
    "try:    \n",
    "    result = y/x\n",
    "    print(result)\n",
    "except ZeroDivisionError:\n",
    "    print(\"You cannot divide by zero\")\n",
    "    \n"
   ]
  },
  {
   "cell_type": "code",
   "execution_count": 30,
   "id": "b6ed5e4d",
   "metadata": {},
   "outputs": [
    {
     "name": "stdout",
     "output_type": "stream",
     "text": [
      "Could not convert value(string) to integer\n"
     ]
    }
   ],
   "source": [
    "try:\n",
    "    x = int(\"precious\")\n",
    "except ValueError:\n",
    "    print(\"Could not convert value(string) to integer\")"
   ]
  },
  {
   "cell_type": "code",
   "execution_count": 19,
   "id": "384f5c41",
   "metadata": {},
   "outputs": [
    {
     "name": "stdout",
     "output_type": "stream",
     "text": [
      "Could not access dictionary with non-existent key\n",
      "Done\n"
     ]
    }
   ],
   "source": [
    "my_dict = {\"name\": \"John\", \"age\": 30}\n",
    "try:\n",
    "    x = my_dict[\"school\"]\n",
    "    print(x)\n",
    "except KeyError:\n",
    "    print(\"Could not access dictionary with non-existent key\")\n",
    "finally:\n",
    "    print(\"Done\")"
   ]
  },
  {
   "cell_type": "code",
   "execution_count": null,
   "id": "949aab87",
   "metadata": {},
   "outputs": [],
   "source": []
  }
 ],
 "metadata": {
  "kernelspec": {
   "display_name": "Python 3 (ipykernel)",
   "language": "python",
   "name": "python3"
  },
  "language_info": {
   "codemirror_mode": {
    "name": "ipython",
    "version": 3
   },
   "file_extension": ".py",
   "mimetype": "text/x-python",
   "name": "python",
   "nbconvert_exporter": "python",
   "pygments_lexer": "ipython3",
   "version": "3.11.4"
  }
 },
 "nbformat": 4,
 "nbformat_minor": 5
}
